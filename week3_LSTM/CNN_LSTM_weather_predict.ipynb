{
 "cells": [
  {
   "cell_type": "code",
   "execution_count": 1,
   "id": "6d8e0cff",
   "metadata": {},
   "outputs": [],
   "source": [
    "import numpy as np\n",
    "import tensorflow as tf\n",
    "from keras.models import Sequential #base keras model\n",
    "from keras.layers import Dense, Activation #dense = fully connected layer\n",
    "from tensorflow.keras.optimizers import SGD"
   ]
  },
  {
   "cell_type": "code",
   "execution_count": 2,
   "id": "17e565c2",
   "metadata": {},
   "outputs": [],
   "source": [
    "import pandas as pd\n",
    "from sklearn.feature_extraction import _stop_words\n",
    "from sklearn.metrics.pairwise import cosine_similarity as cosine\n",
    "from sklearn.feature_extraction.text import TfidfVectorizer\n",
    "from sklearn.feature_extraction.text import CountVectorizer\n",
    "from sklearn.feature_extraction.text import TfidfTransformer\n",
    "from sklearn.decomposition import TruncatedSVD\n",
    "from sklearn.model_selection import train_test_split\n",
    "import matplotlib.pyplot as plt"
   ]
  },
  {
   "cell_type": "code",
   "execution_count": 89,
   "id": "80971dac",
   "metadata": {},
   "outputs": [],
   "source": [
    "from keras.layers import Dropout, LSTM, Bidirectional"
   ]
  },
  {
   "cell_type": "code",
   "execution_count": 31,
   "id": "a37c5309",
   "metadata": {},
   "outputs": [],
   "source": [
    "df = pd.read_csv(\"data/seattle-weather.csv\")"
   ]
  },
  {
   "cell_type": "code",
   "execution_count": 8,
   "id": "5924eec9",
   "metadata": {},
   "outputs": [],
   "source": [
    "def load_data():\n",
    "    \"\"\"\n",
    "    Obtain the dataset from multiple files.\n",
    "    Returns: X_train, X_test, y_train, y_test\n",
    "    \"\"\"\n",
    "    X_train, X_test = load_signals('train'), load_signals('test')\n",
    "    y_train, y_test = load_y('train'), load_y('test')\n",
    "\n",
    "    return X_train, X_test, y_train, y_test"
   ]
  },
  {
   "cell_type": "code",
   "execution_count": 32,
   "id": "973f9941",
   "metadata": {},
   "outputs": [],
   "source": [
    "data = pd.get_dummies(df['weather'])"
   ]
  },
  {
   "cell_type": "code",
   "execution_count": 33,
   "id": "f971e853",
   "metadata": {},
   "outputs": [
    {
     "data": {
      "text/html": [
       "<div>\n",
       "<style scoped>\n",
       "    .dataframe tbody tr th:only-of-type {\n",
       "        vertical-align: middle;\n",
       "    }\n",
       "\n",
       "    .dataframe tbody tr th {\n",
       "        vertical-align: top;\n",
       "    }\n",
       "\n",
       "    .dataframe thead th {\n",
       "        text-align: right;\n",
       "    }\n",
       "</style>\n",
       "<table border=\"1\" class=\"dataframe\">\n",
       "  <thead>\n",
       "    <tr style=\"text-align: right;\">\n",
       "      <th></th>\n",
       "      <th>drizzle</th>\n",
       "      <th>fog</th>\n",
       "      <th>rain</th>\n",
       "      <th>snow</th>\n",
       "      <th>sun</th>\n",
       "    </tr>\n",
       "  </thead>\n",
       "  <tbody>\n",
       "    <tr>\n",
       "      <th>0</th>\n",
       "      <td>1</td>\n",
       "      <td>0</td>\n",
       "      <td>0</td>\n",
       "      <td>0</td>\n",
       "      <td>0</td>\n",
       "    </tr>\n",
       "    <tr>\n",
       "      <th>1</th>\n",
       "      <td>0</td>\n",
       "      <td>0</td>\n",
       "      <td>1</td>\n",
       "      <td>0</td>\n",
       "      <td>0</td>\n",
       "    </tr>\n",
       "    <tr>\n",
       "      <th>2</th>\n",
       "      <td>0</td>\n",
       "      <td>0</td>\n",
       "      <td>1</td>\n",
       "      <td>0</td>\n",
       "      <td>0</td>\n",
       "    </tr>\n",
       "    <tr>\n",
       "      <th>3</th>\n",
       "      <td>0</td>\n",
       "      <td>0</td>\n",
       "      <td>1</td>\n",
       "      <td>0</td>\n",
       "      <td>0</td>\n",
       "    </tr>\n",
       "    <tr>\n",
       "      <th>4</th>\n",
       "      <td>0</td>\n",
       "      <td>0</td>\n",
       "      <td>1</td>\n",
       "      <td>0</td>\n",
       "      <td>0</td>\n",
       "    </tr>\n",
       "    <tr>\n",
       "      <th>...</th>\n",
       "      <td>...</td>\n",
       "      <td>...</td>\n",
       "      <td>...</td>\n",
       "      <td>...</td>\n",
       "      <td>...</td>\n",
       "    </tr>\n",
       "    <tr>\n",
       "      <th>1456</th>\n",
       "      <td>0</td>\n",
       "      <td>0</td>\n",
       "      <td>1</td>\n",
       "      <td>0</td>\n",
       "      <td>0</td>\n",
       "    </tr>\n",
       "    <tr>\n",
       "      <th>1457</th>\n",
       "      <td>0</td>\n",
       "      <td>0</td>\n",
       "      <td>1</td>\n",
       "      <td>0</td>\n",
       "      <td>0</td>\n",
       "    </tr>\n",
       "    <tr>\n",
       "      <th>1458</th>\n",
       "      <td>0</td>\n",
       "      <td>1</td>\n",
       "      <td>0</td>\n",
       "      <td>0</td>\n",
       "      <td>0</td>\n",
       "    </tr>\n",
       "    <tr>\n",
       "      <th>1459</th>\n",
       "      <td>0</td>\n",
       "      <td>0</td>\n",
       "      <td>0</td>\n",
       "      <td>0</td>\n",
       "      <td>1</td>\n",
       "    </tr>\n",
       "    <tr>\n",
       "      <th>1460</th>\n",
       "      <td>0</td>\n",
       "      <td>0</td>\n",
       "      <td>0</td>\n",
       "      <td>0</td>\n",
       "      <td>1</td>\n",
       "    </tr>\n",
       "  </tbody>\n",
       "</table>\n",
       "<p>1461 rows × 5 columns</p>\n",
       "</div>"
      ],
      "text/plain": [
       "      drizzle  fog  rain  snow  sun\n",
       "0           1    0     0     0    0\n",
       "1           0    0     1     0    0\n",
       "2           0    0     1     0    0\n",
       "3           0    0     1     0    0\n",
       "4           0    0     1     0    0\n",
       "...       ...  ...   ...   ...  ...\n",
       "1456        0    0     1     0    0\n",
       "1457        0    0     1     0    0\n",
       "1458        0    1     0     0    0\n",
       "1459        0    0     0     0    1\n",
       "1460        0    0     0     0    1\n",
       "\n",
       "[1461 rows x 5 columns]"
      ]
     },
     "execution_count": 33,
     "metadata": {},
     "output_type": "execute_result"
    }
   ],
   "source": [
    "data"
   ]
  },
  {
   "cell_type": "code",
   "execution_count": null,
   "id": "b0e554be",
   "metadata": {},
   "outputs": [],
   "source": []
  },
  {
   "cell_type": "code",
   "execution_count": 38,
   "id": "22eafa7a",
   "metadata": {},
   "outputs": [],
   "source": [
    "X_train, X_test, y_train, y_test = train_test_split(data, df['precipitation'], test_size=0.2, random_state=0)"
   ]
  },
  {
   "cell_type": "code",
   "execution_count": 60,
   "id": "512f4c1f",
   "metadata": {},
   "outputs": [
    {
     "ename": "ValueError",
     "evalue": "invalid literal for int() with base 10: 'izzle'",
     "output_type": "error",
     "traceback": [
      "\u001b[1;31m---------------------------------------------------------------------------\u001b[0m",
      "\u001b[1;31mValueError\u001b[0m                                Traceback (most recent call last)",
      "Input \u001b[1;32mIn [60]\u001b[0m, in \u001b[0;36m<cell line: 3>\u001b[1;34m()\u001b[0m\n\u001b[0;32m      1\u001b[0m \u001b[38;5;28;01mfrom\u001b[39;00m \u001b[38;5;21;01mkeras\u001b[39;00m\u001b[38;5;21;01m.\u001b[39;00m\u001b[38;5;21;01mpreprocessing\u001b[39;00m \u001b[38;5;28;01mimport\u001b[39;00m sequence \n\u001b[1;32m----> 3\u001b[0m X_train \u001b[38;5;241m=\u001b[39m \u001b[43msequence\u001b[49m\u001b[38;5;241;43m.\u001b[39;49m\u001b[43mpad_sequences\u001b[49m\u001b[43m(\u001b[49m\u001b[43mX_train\u001b[49m\u001b[43m,\u001b[49m\u001b[43m \u001b[49m\u001b[43mmaxlen\u001b[49m\u001b[38;5;241;43m=\u001b[39;49m\u001b[38;5;241;43m5\u001b[39;49m\u001b[43m)\u001b[49m \n\u001b[0;32m      4\u001b[0m X_test \u001b[38;5;241m=\u001b[39m sequence\u001b[38;5;241m.\u001b[39mpad_sequences(X_test, maxlen\u001b[38;5;241m=\u001b[39m\u001b[38;5;241m5\u001b[39m)\n",
      "File \u001b[1;32m~\\anaconda3\\envs\\emi\\lib\\site-packages\\keras\\preprocessing\\sequence.py:152\u001b[0m, in \u001b[0;36mpad_sequences\u001b[1;34m(sequences, maxlen, dtype, padding, truncating, value)\u001b[0m\n\u001b[0;32m     88\u001b[0m \u001b[38;5;129m@keras_export\u001b[39m(\u001b[38;5;124m'\u001b[39m\u001b[38;5;124mkeras.preprocessing.sequence.pad_sequences\u001b[39m\u001b[38;5;124m'\u001b[39m)\n\u001b[0;32m     89\u001b[0m \u001b[38;5;28;01mdef\u001b[39;00m \u001b[38;5;21mpad_sequences\u001b[39m(sequences, maxlen\u001b[38;5;241m=\u001b[39m\u001b[38;5;28;01mNone\u001b[39;00m, dtype\u001b[38;5;241m=\u001b[39m\u001b[38;5;124m'\u001b[39m\u001b[38;5;124mint32\u001b[39m\u001b[38;5;124m'\u001b[39m,\n\u001b[0;32m     90\u001b[0m                   padding\u001b[38;5;241m=\u001b[39m\u001b[38;5;124m'\u001b[39m\u001b[38;5;124mpre\u001b[39m\u001b[38;5;124m'\u001b[39m, truncating\u001b[38;5;241m=\u001b[39m\u001b[38;5;124m'\u001b[39m\u001b[38;5;124mpre\u001b[39m\u001b[38;5;124m'\u001b[39m, value\u001b[38;5;241m=\u001b[39m\u001b[38;5;241m0.\u001b[39m):\n\u001b[0;32m     91\u001b[0m   \u001b[38;5;124;03m\"\"\"Pads sequences to the same length.\u001b[39;00m\n\u001b[0;32m     92\u001b[0m \n\u001b[0;32m     93\u001b[0m \u001b[38;5;124;03m  This function transforms a list (of length `num_samples`)\u001b[39;00m\n\u001b[1;32m   (...)\u001b[0m\n\u001b[0;32m    150\u001b[0m \u001b[38;5;124;03m          or in case of invalid shape for a `sequences` entry.\u001b[39;00m\n\u001b[0;32m    151\u001b[0m \u001b[38;5;124;03m  \"\"\"\u001b[39;00m\n\u001b[1;32m--> 152\u001b[0m   \u001b[38;5;28;01mreturn\u001b[39;00m \u001b[43msequence\u001b[49m\u001b[38;5;241;43m.\u001b[39;49m\u001b[43mpad_sequences\u001b[49m\u001b[43m(\u001b[49m\n\u001b[0;32m    153\u001b[0m \u001b[43m      \u001b[49m\u001b[43msequences\u001b[49m\u001b[43m,\u001b[49m\u001b[43m \u001b[49m\u001b[43mmaxlen\u001b[49m\u001b[38;5;241;43m=\u001b[39;49m\u001b[43mmaxlen\u001b[49m\u001b[43m,\u001b[49m\u001b[43m \u001b[49m\u001b[43mdtype\u001b[49m\u001b[38;5;241;43m=\u001b[39;49m\u001b[43mdtype\u001b[49m\u001b[43m,\u001b[49m\n\u001b[0;32m    154\u001b[0m \u001b[43m      \u001b[49m\u001b[43mpadding\u001b[49m\u001b[38;5;241;43m=\u001b[39;49m\u001b[43mpadding\u001b[49m\u001b[43m,\u001b[49m\u001b[43m \u001b[49m\u001b[43mtruncating\u001b[49m\u001b[38;5;241;43m=\u001b[39;49m\u001b[43mtruncating\u001b[49m\u001b[43m,\u001b[49m\u001b[43m \u001b[49m\u001b[43mvalue\u001b[49m\u001b[38;5;241;43m=\u001b[39;49m\u001b[43mvalue\u001b[49m\u001b[43m)\u001b[49m\n",
      "File \u001b[1;32m~\\anaconda3\\envs\\emi\\lib\\site-packages\\keras_preprocessing\\sequence.py:98\u001b[0m, in \u001b[0;36mpad_sequences\u001b[1;34m(sequences, maxlen, dtype, padding, truncating, value)\u001b[0m\n\u001b[0;32m     94\u001b[0m     \u001b[38;5;28;01mraise\u001b[39;00m \u001b[38;5;167;01mValueError\u001b[39;00m(\u001b[38;5;124m'\u001b[39m\u001b[38;5;124mTruncating type \u001b[39m\u001b[38;5;124m\"\u001b[39m\u001b[38;5;132;01m%s\u001b[39;00m\u001b[38;5;124m\"\u001b[39m\u001b[38;5;124m \u001b[39m\u001b[38;5;124m'\u001b[39m\n\u001b[0;32m     95\u001b[0m                      \u001b[38;5;124m'\u001b[39m\u001b[38;5;124mnot understood\u001b[39m\u001b[38;5;124m'\u001b[39m \u001b[38;5;241m%\u001b[39m truncating)\n\u001b[0;32m     97\u001b[0m \u001b[38;5;66;03m# check `trunc` has expected shape\u001b[39;00m\n\u001b[1;32m---> 98\u001b[0m trunc \u001b[38;5;241m=\u001b[39m \u001b[43mnp\u001b[49m\u001b[38;5;241;43m.\u001b[39;49m\u001b[43masarray\u001b[49m\u001b[43m(\u001b[49m\u001b[43mtrunc\u001b[49m\u001b[43m,\u001b[49m\u001b[43m \u001b[49m\u001b[43mdtype\u001b[49m\u001b[38;5;241;43m=\u001b[39;49m\u001b[43mdtype\u001b[49m\u001b[43m)\u001b[49m\n\u001b[0;32m     99\u001b[0m \u001b[38;5;28;01mif\u001b[39;00m trunc\u001b[38;5;241m.\u001b[39mshape[\u001b[38;5;241m1\u001b[39m:] \u001b[38;5;241m!=\u001b[39m sample_shape:\n\u001b[0;32m    100\u001b[0m     \u001b[38;5;28;01mraise\u001b[39;00m \u001b[38;5;167;01mValueError\u001b[39;00m(\u001b[38;5;124m'\u001b[39m\u001b[38;5;124mShape of sample \u001b[39m\u001b[38;5;132;01m%s\u001b[39;00m\u001b[38;5;124m of sequence at position \u001b[39m\u001b[38;5;132;01m%s\u001b[39;00m\u001b[38;5;124m \u001b[39m\u001b[38;5;124m'\u001b[39m\n\u001b[0;32m    101\u001b[0m                      \u001b[38;5;124m'\u001b[39m\u001b[38;5;124mis different from expected shape \u001b[39m\u001b[38;5;132;01m%s\u001b[39;00m\u001b[38;5;124m'\u001b[39m \u001b[38;5;241m%\u001b[39m\n\u001b[0;32m    102\u001b[0m                      (trunc\u001b[38;5;241m.\u001b[39mshape[\u001b[38;5;241m1\u001b[39m:], idx, sample_shape))\n",
      "\u001b[1;31mValueError\u001b[0m: invalid literal for int() with base 10: 'izzle'"
     ]
    }
   ],
   "source": [
    "from keras.preprocessing import sequence \n",
    "\n",
    "X_train = sequence.pad_sequences(X_train, maxlen=5) \n",
    "X_test = sequence.pad_sequences(X_test, maxlen=5)"
   ]
  },
  {
   "cell_type": "code",
   "execution_count": 39,
   "id": "ed008c51",
   "metadata": {},
   "outputs": [
    {
     "data": {
      "text/plain": [
       "(1168, 5)"
      ]
     },
     "execution_count": 39,
     "metadata": {},
     "output_type": "execute_result"
    }
   ],
   "source": [
    "np.shape(X_train)"
   ]
  },
  {
   "cell_type": "code",
   "execution_count": 40,
   "id": "78d9aa40",
   "metadata": {},
   "outputs": [
    {
     "data": {
      "text/plain": [
       "(1168,)"
      ]
     },
     "execution_count": 40,
     "metadata": {},
     "output_type": "execute_result"
    }
   ],
   "source": [
    "np.shape(y_train)"
   ]
  },
  {
   "cell_type": "code",
   "execution_count": 46,
   "id": "91c1e3de",
   "metadata": {},
   "outputs": [
    {
     "ename": "KeyError",
     "evalue": "0",
     "output_type": "error",
     "traceback": [
      "\u001b[1;31m---------------------------------------------------------------------------\u001b[0m",
      "\u001b[1;31mKeyError\u001b[0m                                  Traceback (most recent call last)",
      "File \u001b[1;32m~\\anaconda3\\envs\\emi\\lib\\site-packages\\pandas\\core\\indexes\\base.py:3621\u001b[0m, in \u001b[0;36mIndex.get_loc\u001b[1;34m(self, key, method, tolerance)\u001b[0m\n\u001b[0;32m   3620\u001b[0m \u001b[38;5;28;01mtry\u001b[39;00m:\n\u001b[1;32m-> 3621\u001b[0m     \u001b[38;5;28;01mreturn\u001b[39;00m \u001b[38;5;28;43mself\u001b[39;49m\u001b[38;5;241;43m.\u001b[39;49m\u001b[43m_engine\u001b[49m\u001b[38;5;241;43m.\u001b[39;49m\u001b[43mget_loc\u001b[49m\u001b[43m(\u001b[49m\u001b[43mcasted_key\u001b[49m\u001b[43m)\u001b[49m\n\u001b[0;32m   3622\u001b[0m \u001b[38;5;28;01mexcept\u001b[39;00m \u001b[38;5;167;01mKeyError\u001b[39;00m \u001b[38;5;28;01mas\u001b[39;00m err:\n",
      "File \u001b[1;32m~\\anaconda3\\envs\\emi\\lib\\site-packages\\pandas\\_libs\\index.pyx:136\u001b[0m, in \u001b[0;36mpandas._libs.index.IndexEngine.get_loc\u001b[1;34m()\u001b[0m\n",
      "File \u001b[1;32m~\\anaconda3\\envs\\emi\\lib\\site-packages\\pandas\\_libs\\index.pyx:163\u001b[0m, in \u001b[0;36mpandas._libs.index.IndexEngine.get_loc\u001b[1;34m()\u001b[0m\n",
      "File \u001b[1;32mpandas\\_libs\\hashtable_class_helper.pxi:5198\u001b[0m, in \u001b[0;36mpandas._libs.hashtable.PyObjectHashTable.get_item\u001b[1;34m()\u001b[0m\n",
      "File \u001b[1;32mpandas\\_libs\\hashtable_class_helper.pxi:5206\u001b[0m, in \u001b[0;36mpandas._libs.hashtable.PyObjectHashTable.get_item\u001b[1;34m()\u001b[0m\n",
      "\u001b[1;31mKeyError\u001b[0m: 0",
      "\nThe above exception was the direct cause of the following exception:\n",
      "\u001b[1;31mKeyError\u001b[0m                                  Traceback (most recent call last)",
      "Input \u001b[1;32mIn [46]\u001b[0m, in \u001b[0;36m<cell line: 1>\u001b[1;34m()\u001b[0m\n\u001b[1;32m----> 1\u001b[0m timesteps \u001b[38;5;241m=\u001b[39m \u001b[38;5;28mlen\u001b[39m(\u001b[43mX_train\u001b[49m\u001b[43m[\u001b[49m\u001b[38;5;241;43m0\u001b[39;49m\u001b[43m]\u001b[49m)\n\u001b[0;32m      2\u001b[0m input_dim \u001b[38;5;241m=\u001b[39m \u001b[38;5;28mlen\u001b[39m(X_train[\u001b[38;5;241m0\u001b[39m][\u001b[38;5;241m0\u001b[39m])\n\u001b[0;32m      3\u001b[0m n_classes \u001b[38;5;241m=\u001b[39m _count_classes(y_train)\n",
      "File \u001b[1;32m~\\anaconda3\\envs\\emi\\lib\\site-packages\\pandas\\core\\frame.py:3505\u001b[0m, in \u001b[0;36mDataFrame.__getitem__\u001b[1;34m(self, key)\u001b[0m\n\u001b[0;32m   3503\u001b[0m \u001b[38;5;28;01mif\u001b[39;00m \u001b[38;5;28mself\u001b[39m\u001b[38;5;241m.\u001b[39mcolumns\u001b[38;5;241m.\u001b[39mnlevels \u001b[38;5;241m>\u001b[39m \u001b[38;5;241m1\u001b[39m:\n\u001b[0;32m   3504\u001b[0m     \u001b[38;5;28;01mreturn\u001b[39;00m \u001b[38;5;28mself\u001b[39m\u001b[38;5;241m.\u001b[39m_getitem_multilevel(key)\n\u001b[1;32m-> 3505\u001b[0m indexer \u001b[38;5;241m=\u001b[39m \u001b[38;5;28;43mself\u001b[39;49m\u001b[38;5;241;43m.\u001b[39;49m\u001b[43mcolumns\u001b[49m\u001b[38;5;241;43m.\u001b[39;49m\u001b[43mget_loc\u001b[49m\u001b[43m(\u001b[49m\u001b[43mkey\u001b[49m\u001b[43m)\u001b[49m\n\u001b[0;32m   3506\u001b[0m \u001b[38;5;28;01mif\u001b[39;00m is_integer(indexer):\n\u001b[0;32m   3507\u001b[0m     indexer \u001b[38;5;241m=\u001b[39m [indexer]\n",
      "File \u001b[1;32m~\\anaconda3\\envs\\emi\\lib\\site-packages\\pandas\\core\\indexes\\base.py:3623\u001b[0m, in \u001b[0;36mIndex.get_loc\u001b[1;34m(self, key, method, tolerance)\u001b[0m\n\u001b[0;32m   3621\u001b[0m     \u001b[38;5;28;01mreturn\u001b[39;00m \u001b[38;5;28mself\u001b[39m\u001b[38;5;241m.\u001b[39m_engine\u001b[38;5;241m.\u001b[39mget_loc(casted_key)\n\u001b[0;32m   3622\u001b[0m \u001b[38;5;28;01mexcept\u001b[39;00m \u001b[38;5;167;01mKeyError\u001b[39;00m \u001b[38;5;28;01mas\u001b[39;00m err:\n\u001b[1;32m-> 3623\u001b[0m     \u001b[38;5;28;01mraise\u001b[39;00m \u001b[38;5;167;01mKeyError\u001b[39;00m(key) \u001b[38;5;28;01mfrom\u001b[39;00m \u001b[38;5;21;01merr\u001b[39;00m\n\u001b[0;32m   3624\u001b[0m \u001b[38;5;28;01mexcept\u001b[39;00m \u001b[38;5;167;01mTypeError\u001b[39;00m:\n\u001b[0;32m   3625\u001b[0m     \u001b[38;5;66;03m# If we have a listlike key, _check_indexing_error will raise\u001b[39;00m\n\u001b[0;32m   3626\u001b[0m     \u001b[38;5;66;03m#  InvalidIndexError. Otherwise we fall through and re-raise\u001b[39;00m\n\u001b[0;32m   3627\u001b[0m     \u001b[38;5;66;03m#  the TypeError.\u001b[39;00m\n\u001b[0;32m   3628\u001b[0m     \u001b[38;5;28mself\u001b[39m\u001b[38;5;241m.\u001b[39m_check_indexing_error(key)\n",
      "\u001b[1;31mKeyError\u001b[0m: 0"
     ]
    }
   ],
   "source": [
    "timesteps = len(X_train[0])\n",
    "input_dim = len(X_train[0][0])\n",
    "n_classes = _count_classes(y_train)"
   ]
  },
  {
   "cell_type": "code",
   "execution_count": 19,
   "id": "e933c06e",
   "metadata": {},
   "outputs": [],
   "source": [
    "? len"
   ]
  },
  {
   "cell_type": "code",
   "execution_count": 47,
   "id": "bd87d3d7",
   "metadata": {},
   "outputs": [],
   "source": [
    "#Now let's make a simple neural network with 1 hidden layer containing 10 neurons\n",
    "num_neurons = 50 # neurons in each layer\n",
    "model = Sequential()\n",
    "\n",
    "#Make the first (hidden) layer, which will have num_neurons neurons. Each neuron will get inputs from all columns of the dataframe, except sentiment\n",
    "#model.add(Dense(num_neurons, input_dim=len(data.columns)-1))\n",
    "model.add(Dense(num_neurons, input_dim=np.shape(X_train)[1]))\n",
    "model.add(Activation('sigmoid')) #Now we'll use a sigmoid activation function\n",
    "\n",
    "#model.add(Dense(10, input_dim=50))\n",
    "model.add(Dense(num_neurons))\n",
    "model.add(Activation('sigmoid'))\n",
    "\n",
    "#Now let's add another layer for the output: A single sigmoid neuron.\n",
    "model.add(Dense(1)) \n",
    "model.add(Activation('sigmoid'))\n"
   ]
  },
  {
   "cell_type": "code",
   "execution_count": 42,
   "id": "201a86dc",
   "metadata": {},
   "outputs": [
    {
     "name": "stdout",
     "output_type": "stream",
     "text": [
      "Model: \"sequential\"\n",
      "_________________________________________________________________\n",
      " Layer (type)                Output Shape              Param #   \n",
      "=================================================================\n",
      " dense (Dense)               (None, 10)                60        \n",
      "                                                                 \n",
      " activation (Activation)     (None, 10)                0         \n",
      "                                                                 \n",
      " dense_1 (Dense)             (None, 10)                110       \n",
      "                                                                 \n",
      " activation_1 (Activation)   (None, 10)                0         \n",
      "                                                                 \n",
      " dense_2 (Dense)             (None, 1)                 11        \n",
      "                                                                 \n",
      " activation_2 (Activation)   (None, 1)                 0         \n",
      "                                                                 \n",
      "=================================================================\n",
      "Total params: 181\n",
      "Trainable params: 181\n",
      "Non-trainable params: 0\n",
      "_________________________________________________________________\n"
     ]
    }
   ],
   "source": [
    "model.summary()"
   ]
  },
  {
   "cell_type": "code",
   "execution_count": 43,
   "id": "71225000",
   "metadata": {},
   "outputs": [],
   "source": [
    "model.compile(optimizer='adam',\n",
    "              loss='categorical_crossentropy',\n",
    "              metrics=['accuracy'])"
   ]
  },
  {
   "cell_type": "code",
   "execution_count": 44,
   "id": "fbdad847",
   "metadata": {},
   "outputs": [
    {
     "name": "stdout",
     "output_type": "stream",
     "text": [
      "Epoch 1/10\n",
      "37/37 [==============================] - 4s 6ms/step - loss: 0.0000e+00 - accuracy: 0.5668 - val_loss: 0.0000e+00 - val_accuracy: 0.5017\n",
      "Epoch 2/10\n",
      "37/37 [==============================] - 0s 1ms/step - loss: 0.0000e+00 - accuracy: 0.0771 - val_loss: 0.0000e+00 - val_accuracy: 0.0205\n",
      "Epoch 3/10\n",
      "37/37 [==============================] - 0s 1ms/step - loss: 0.0000e+00 - accuracy: 0.0171 - val_loss: 0.0000e+00 - val_accuracy: 0.0205\n",
      "Epoch 4/10\n",
      "37/37 [==============================] - 0s 1ms/step - loss: 0.0000e+00 - accuracy: 0.0171 - val_loss: 0.0000e+00 - val_accuracy: 0.0205\n",
      "Epoch 5/10\n",
      "37/37 [==============================] - 0s 1ms/step - loss: 0.0000e+00 - accuracy: 0.0171 - val_loss: 0.0000e+00 - val_accuracy: 0.0205\n",
      "Epoch 6/10\n",
      "37/37 [==============================] - 0s 1ms/step - loss: 0.0000e+00 - accuracy: 0.0171 - val_loss: 0.0000e+00 - val_accuracy: 0.0205\n",
      "Epoch 7/10\n",
      "37/37 [==============================] - 0s 1ms/step - loss: 0.0000e+00 - accuracy: 0.0171 - val_loss: 0.0000e+00 - val_accuracy: 0.0205\n",
      "Epoch 8/10\n",
      "37/37 [==============================] - 0s 1ms/step - loss: 0.0000e+00 - accuracy: 0.0171 - val_loss: 0.0000e+00 - val_accuracy: 0.0205\n",
      "Epoch 9/10\n",
      "37/37 [==============================] - 0s 1ms/step - loss: 0.0000e+00 - accuracy: 0.0171 - val_loss: 0.0000e+00 - val_accuracy: 0.0205\n",
      "Epoch 10/10\n",
      "37/37 [==============================] - 0s 1ms/step - loss: 0.0000e+00 - accuracy: 0.0171 - val_loss: 0.0000e+00 - val_accuracy: 0.0205\n"
     ]
    }
   ],
   "source": [
    "history = model.fit(X_train, y_train, epochs=10, validation_data=(X_test, y_test))"
   ]
  },
  {
   "cell_type": "code",
   "execution_count": 48,
   "id": "9de288f3",
   "metadata": {},
   "outputs": [
    {
     "name": "stdout",
     "output_type": "stream",
     "text": [
      "Epoch 1/10\n",
      "37/37 [==============================] - 0s 3ms/step - loss: 0.0000e+00 - accuracy: 0.0531 - val_loss: 0.0000e+00 - val_accuracy: 0.0205\n",
      "Epoch 2/10\n",
      "37/37 [==============================] - 0s 1ms/step - loss: 0.0000e+00 - accuracy: 0.0171 - val_loss: 0.0000e+00 - val_accuracy: 0.0205\n",
      "Epoch 3/10\n",
      "37/37 [==============================] - 0s 1ms/step - loss: 0.0000e+00 - accuracy: 0.0171 - val_loss: 0.0000e+00 - val_accuracy: 0.0205\n",
      "Epoch 4/10\n",
      "37/37 [==============================] - 0s 1ms/step - loss: 0.0000e+00 - accuracy: 0.0171 - val_loss: 0.0000e+00 - val_accuracy: 0.0205\n",
      "Epoch 5/10\n",
      "37/37 [==============================] - 0s 1ms/step - loss: 0.0000e+00 - accuracy: 0.0171 - val_loss: 0.0000e+00 - val_accuracy: 0.0205\n",
      "Epoch 6/10\n",
      "37/37 [==============================] - 0s 1ms/step - loss: 0.0000e+00 - accuracy: 0.2509 - val_loss: 0.0000e+00 - val_accuracy: 0.5802\n",
      "Epoch 7/10\n",
      "37/37 [==============================] - 0s 1ms/step - loss: 0.0000e+00 - accuracy: 0.5565 - val_loss: 0.0000e+00 - val_accuracy: 0.5802\n",
      "Epoch 8/10\n",
      "37/37 [==============================] - 0s 1ms/step - loss: 0.0000e+00 - accuracy: 0.5565 - val_loss: 0.0000e+00 - val_accuracy: 0.5802\n",
      "Epoch 9/10\n",
      "37/37 [==============================] - 0s 1ms/step - loss: 0.0000e+00 - accuracy: 0.5565 - val_loss: 0.0000e+00 - val_accuracy: 0.5802\n",
      "Epoch 10/10\n",
      "37/37 [==============================] - 0s 1ms/step - loss: 0.0000e+00 - accuracy: 0.5565 - val_loss: 0.0000e+00 - val_accuracy: 0.5802\n"
     ]
    }
   ],
   "source": [
    "from tensorflow import keras\n",
    "from tensorflow.keras import layers\n",
    "\n",
    "opt = keras.optimizers.Adam(learning_rate=0.01)\n",
    "\n",
    "model.compile(optimizer=opt,\n",
    "              loss='categorical_crossentropy',\n",
    "              metrics=['accuracy'])\n",
    "\n",
    "history = model.fit(X_train, y_train, epochs=10, validation_data=(X_test, y_test))"
   ]
  },
  {
   "cell_type": "code",
   "execution_count": 50,
   "id": "0046775d",
   "metadata": {},
   "outputs": [],
   "source": [
    "import seaborn as sns"
   ]
  },
  {
   "cell_type": "code",
   "execution_count": 52,
   "id": "5c97a8bf",
   "metadata": {},
   "outputs": [
    {
     "data": {
      "image/png": "[encoded data removed]",
      "text/plain": [
       "<Figure size 1296x576 with 1 Axes>"
      ]
     },
     "metadata": {},
     "output_type": "display_data"
    }
   ],
   "source": [
    "plt.figure(figsize=(18,8))\n",
    "sns.set_theme()\n",
    "sns.lineplot(x = 'date',y='temp_max',data=df)\n",
    "plt.xlabel(\"Date\",fontweight='bold',size=13)\n",
    "plt.ylabel(\"Temp_Max\",fontweight='bold',size=13)\n",
    "plt.show()"
   ]
  },
  {
   "cell_type": "code",
   "execution_count": 59,
   "id": "e2fbea33",
   "metadata": {},
   "outputs": [
    {
     "name": "stdout",
     "output_type": "stream",
     "text": [
      "Epoch 1/10\n",
      "37/37 [==============================] - 0s 4ms/step - loss: 54.2193 - accuracy: 0.5565 - val_loss: 24.0534 - val_accuracy: 0.5802\n",
      "Epoch 2/10\n",
      "37/37 [==============================] - 0s 1ms/step - loss: 54.2193 - accuracy: 0.5565 - val_loss: 24.0534 - val_accuracy: 0.5802\n",
      "Epoch 3/10\n",
      "37/37 [==============================] - 0s 1ms/step - loss: 54.2193 - accuracy: 0.5565 - val_loss: 24.0534 - val_accuracy: 0.5802\n",
      "Epoch 4/10\n",
      "37/37 [==============================] - 0s 1ms/step - loss: 54.2193 - accuracy: 0.5565 - val_loss: 24.0534 - val_accuracy: 0.5802\n",
      "Epoch 5/10\n",
      "37/37 [==============================] - 0s 2ms/step - loss: 54.2193 - accuracy: 0.5565 - val_loss: 24.0534 - val_accuracy: 0.5802\n",
      "Epoch 6/10\n",
      "37/37 [==============================] - 0s 1ms/step - loss: 54.2193 - accuracy: 0.5565 - val_loss: 24.0534 - val_accuracy: 0.5802\n",
      "Epoch 7/10\n",
      "37/37 [==============================] - 0s 1ms/step - loss: 54.2193 - accuracy: 0.5565 - val_loss: 24.0534 - val_accuracy: 0.5802\n",
      "Epoch 8/10\n",
      "37/37 [==============================] - 0s 1ms/step - loss: 54.2193 - accuracy: 0.5565 - val_loss: 24.0534 - val_accuracy: 0.5802\n",
      "Epoch 9/10\n",
      "37/37 [==============================] - 0s 1ms/step - loss: 54.2193 - accuracy: 0.5565 - val_loss: 24.0534 - val_accuracy: 0.5802\n",
      "Epoch 10/10\n",
      "37/37 [==============================] - 0s 1ms/step - loss: 54.2193 - accuracy: 0.5565 - val_loss: 24.0534 - val_accuracy: 0.5802\n"
     ]
    }
   ],
   "source": [
    "opt = keras.optimizers.Adam(learning_rate=0.01)\n",
    "\n",
    "model.compile(optimizer=opt,\n",
    "              loss='mean_squared_error',\n",
    "              metrics=['accuracy'])\n",
    "\n",
    "history = model.fit(X_train, y_train, epochs=10, validation_data=(X_test, y_test))"
   ]
  },
  {
   "cell_type": "code",
   "execution_count": 61,
   "id": "600e05f5",
   "metadata": {},
   "outputs": [],
   "source": [
    "#Now let's make a simple neural network with 1 hidden layer containing 10 neurons\n",
    "num_neurons = 50 # neurons in each layer\n",
    "model = Sequential()\n",
    "\n",
    "#Make the first (hidden) layer, which will have num_neurons neurons. Each neuron will get inputs from all columns of the dataframe, except sentiment\n",
    "#model.add(Dense(num_neurons, input_dim=len(data.columns)-1))\n",
    "model.add(Dense(num_neurons, input_dim=np.shape(X_train)[1]))\n",
    "model.add(Activation('relu')) #Now we'll use a sigmoid activation function\n",
    "\n",
    "#model.add(Dense(10, input_dim=50))\n",
    "model.add(Dense(num_neurons))\n",
    "model.add(Activation('relu'))\n",
    "\n",
    "model.add(Dense(num_neurons))\n",
    "model.add(Activation('relu'))\n",
    "\n",
    "#Now let's add another layer for the output: A single sigmoid neuron.\n",
    "model.add(Dense(1)) \n",
    "model.add(Activation('relu'))"
   ]
  },
  {
   "cell_type": "code",
   "execution_count": 63,
   "id": "216db664",
   "metadata": {
    "scrolled": true
   },
   "outputs": [
    {
     "name": "stdout",
     "output_type": "stream",
     "text": [
      "Epoch 1/10\n",
      "37/37 [==============================] - 1s 3ms/step - loss: nan - accuracy: 0.5668 - val_loss: nan - val_accuracy: 0.6007\n",
      "Epoch 2/10\n",
      "37/37 [==============================] - 0s 1ms/step - loss: nan - accuracy: 0.5668 - val_loss: nan - val_accuracy: 0.6007\n",
      "Epoch 3/10\n",
      "37/37 [==============================] - 0s 1ms/step - loss: nan - accuracy: 0.5668 - val_loss: nan - val_accuracy: 0.6007\n",
      "Epoch 4/10\n",
      "37/37 [==============================] - 0s 1ms/step - loss: nan - accuracy: 0.5668 - val_loss: nan - val_accuracy: 0.6007\n",
      "Epoch 5/10\n",
      "37/37 [==============================] - 0s 1ms/step - loss: nan - accuracy: 0.5668 - val_loss: nan - val_accuracy: 0.6007\n",
      "Epoch 6/10\n",
      "37/37 [==============================] - 0s 1ms/step - loss: nan - accuracy: 0.5668 - val_loss: nan - val_accuracy: 0.6007\n",
      "Epoch 7/10\n",
      "37/37 [==============================] - 0s 1ms/step - loss: nan - accuracy: 0.5668 - val_loss: nan - val_accuracy: 0.6007\n",
      "Epoch 8/10\n",
      "37/37 [==============================] - 0s 1ms/step - loss: nan - accuracy: 0.5668 - val_loss: nan - val_accuracy: 0.6007\n",
      "Epoch 9/10\n",
      "37/37 [==============================] - 0s 1ms/step - loss: nan - accuracy: 0.5668 - val_loss: nan - val_accuracy: 0.6007\n",
      "Epoch 10/10\n",
      "37/37 [==============================] - 0s 1ms/step - loss: nan - accuracy: 0.5668 - val_loss: nan - val_accuracy: 0.6007\n"
     ]
    }
   ],
   "source": [
    "opt = keras.optimizers.Adam(learning_rate=0.01)\n",
    "\n",
    "model.compile(optimizer=opt,\n",
    "              loss='categorical_crossentropy',\n",
    "              metrics=['accuracy'])\n",
    "\n",
    "history = model.fit(X_train, y_train, epochs=10, validation_data=(X_test, y_test))"
   ]
  },
  {
   "cell_type": "code",
   "execution_count": 65,
   "id": "3d65d47b",
   "metadata": {},
   "outputs": [],
   "source": [
    "data_weather = df[['precipitation','weather']]\n",
    "data_weather.set_index('precipitation',drop=True,inplace=True)"
   ]
  },
  {
   "cell_type": "code",
   "execution_count": 66,
   "id": "f723ab12",
   "metadata": {},
   "outputs": [
    {
     "data": {
      "text/html": [
       "<div>\n",
       "<style scoped>\n",
       "    .dataframe tbody tr th:only-of-type {\n",
       "        vertical-align: middle;\n",
       "    }\n",
       "\n",
       "    .dataframe tbody tr th {\n",
       "        vertical-align: top;\n",
       "    }\n",
       "\n",
       "    .dataframe thead th {\n",
       "        text-align: right;\n",
       "    }\n",
       "</style>\n",
       "<table border=\"1\" class=\"dataframe\">\n",
       "  <thead>\n",
       "    <tr style=\"text-align: right;\">\n",
       "      <th></th>\n",
       "      <th>weather</th>\n",
       "    </tr>\n",
       "    <tr>\n",
       "      <th>precipitation</th>\n",
       "      <th></th>\n",
       "    </tr>\n",
       "  </thead>\n",
       "  <tbody>\n",
       "    <tr>\n",
       "      <th>0.0</th>\n",
       "      <td>drizzle</td>\n",
       "    </tr>\n",
       "    <tr>\n",
       "      <th>10.9</th>\n",
       "      <td>rain</td>\n",
       "    </tr>\n",
       "    <tr>\n",
       "      <th>0.8</th>\n",
       "      <td>rain</td>\n",
       "    </tr>\n",
       "    <tr>\n",
       "      <th>20.3</th>\n",
       "      <td>rain</td>\n",
       "    </tr>\n",
       "    <tr>\n",
       "      <th>1.3</th>\n",
       "      <td>rain</td>\n",
       "    </tr>\n",
       "    <tr>\n",
       "      <th>...</th>\n",
       "      <td>...</td>\n",
       "    </tr>\n",
       "    <tr>\n",
       "      <th>8.6</th>\n",
       "      <td>rain</td>\n",
       "    </tr>\n",
       "    <tr>\n",
       "      <th>1.5</th>\n",
       "      <td>rain</td>\n",
       "    </tr>\n",
       "    <tr>\n",
       "      <th>0.0</th>\n",
       "      <td>fog</td>\n",
       "    </tr>\n",
       "    <tr>\n",
       "      <th>0.0</th>\n",
       "      <td>sun</td>\n",
       "    </tr>\n",
       "    <tr>\n",
       "      <th>0.0</th>\n",
       "      <td>sun</td>\n",
       "    </tr>\n",
       "  </tbody>\n",
       "</table>\n",
       "<p>1461 rows × 1 columns</p>\n",
       "</div>"
      ],
      "text/plain": [
       "               weather\n",
       "precipitation         \n",
       "0.0            drizzle\n",
       "10.9              rain\n",
       "0.8               rain\n",
       "20.3              rain\n",
       "1.3               rain\n",
       "...                ...\n",
       "8.6               rain\n",
       "1.5               rain\n",
       "0.0                fog\n",
       "0.0                sun\n",
       "0.0                sun\n",
       "\n",
       "[1461 rows x 1 columns]"
      ]
     },
     "execution_count": 66,
     "metadata": {},
     "output_type": "execute_result"
    }
   ],
   "source": [
    "data_weather"
   ]
  },
  {
   "cell_type": "code",
   "execution_count": 70,
   "id": "b596607a",
   "metadata": {},
   "outputs": [],
   "source": [
    "#Only use date and precipitation 2 colums, so exclude any other informations\n",
    "\n",
    "data_prec = df[['date','precipitation']].iloc[:1460,:]\n",
    "data_prec.set_index('date',drop=True,inplace=True)"
   ]
  },
  {
   "cell_type": "code",
   "execution_count": 71,
   "id": "4ab271b4",
   "metadata": {},
   "outputs": [
    {
     "data": {
      "text/html": [
       "<div>\n",
       "<style scoped>\n",
       "    .dataframe tbody tr th:only-of-type {\n",
       "        vertical-align: middle;\n",
       "    }\n",
       "\n",
       "    .dataframe tbody tr th {\n",
       "        vertical-align: top;\n",
       "    }\n",
       "\n",
       "    .dataframe thead th {\n",
       "        text-align: right;\n",
       "    }\n",
       "</style>\n",
       "<table border=\"1\" class=\"dataframe\">\n",
       "  <thead>\n",
       "    <tr style=\"text-align: right;\">\n",
       "      <th></th>\n",
       "      <th>precipitation</th>\n",
       "    </tr>\n",
       "    <tr>\n",
       "      <th>date</th>\n",
       "      <th></th>\n",
       "    </tr>\n",
       "  </thead>\n",
       "  <tbody>\n",
       "    <tr>\n",
       "      <th>2012-01-01</th>\n",
       "      <td>0.0</td>\n",
       "    </tr>\n",
       "    <tr>\n",
       "      <th>2012-01-02</th>\n",
       "      <td>10.9</td>\n",
       "    </tr>\n",
       "    <tr>\n",
       "      <th>2012-01-03</th>\n",
       "      <td>0.8</td>\n",
       "    </tr>\n",
       "    <tr>\n",
       "      <th>2012-01-04</th>\n",
       "      <td>20.3</td>\n",
       "    </tr>\n",
       "    <tr>\n",
       "      <th>2012-01-05</th>\n",
       "      <td>1.3</td>\n",
       "    </tr>\n",
       "    <tr>\n",
       "      <th>...</th>\n",
       "      <td>...</td>\n",
       "    </tr>\n",
       "    <tr>\n",
       "      <th>2015-12-26</th>\n",
       "      <td>0.0</td>\n",
       "    </tr>\n",
       "    <tr>\n",
       "      <th>2015-12-27</th>\n",
       "      <td>8.6</td>\n",
       "    </tr>\n",
       "    <tr>\n",
       "      <th>2015-12-28</th>\n",
       "      <td>1.5</td>\n",
       "    </tr>\n",
       "    <tr>\n",
       "      <th>2015-12-29</th>\n",
       "      <td>0.0</td>\n",
       "    </tr>\n",
       "    <tr>\n",
       "      <th>2015-12-30</th>\n",
       "      <td>0.0</td>\n",
       "    </tr>\n",
       "  </tbody>\n",
       "</table>\n",
       "<p>1460 rows × 1 columns</p>\n",
       "</div>"
      ],
      "text/plain": [
       "            precipitation\n",
       "date                     \n",
       "2012-01-01            0.0\n",
       "2012-01-02           10.9\n",
       "2012-01-03            0.8\n",
       "2012-01-04           20.3\n",
       "2012-01-05            1.3\n",
       "...                   ...\n",
       "2015-12-26            0.0\n",
       "2015-12-27            8.6\n",
       "2015-12-28            1.5\n",
       "2015-12-29            0.0\n",
       "2015-12-30            0.0\n",
       "\n",
       "[1460 rows x 1 columns]"
      ]
     },
     "execution_count": 71,
     "metadata": {},
     "output_type": "execute_result"
    }
   ],
   "source": [
    "data_prec"
   ]
  },
  {
   "cell_type": "code",
   "execution_count": 74,
   "id": "ce0c8a4a",
   "metadata": {},
   "outputs": [],
   "source": [
    "#Applying a scaler for regression\n",
    "\n",
    "from sklearn.preprocessing import MinMaxScaler\n",
    "\n",
    "scaler = MinMaxScaler()\n",
    "data_prec[data_prec.columns] = scaler.fit_transform(data_prec)"
   ]
  },
  {
   "cell_type": "code",
   "execution_count": 75,
   "id": "62882703",
   "metadata": {},
   "outputs": [
    {
     "data": {
      "text/html": [
       "<div>\n",
       "<style scoped>\n",
       "    .dataframe tbody tr th:only-of-type {\n",
       "        vertical-align: middle;\n",
       "    }\n",
       "\n",
       "    .dataframe tbody tr th {\n",
       "        vertical-align: top;\n",
       "    }\n",
       "\n",
       "    .dataframe thead th {\n",
       "        text-align: right;\n",
       "    }\n",
       "</style>\n",
       "<table border=\"1\" class=\"dataframe\">\n",
       "  <thead>\n",
       "    <tr style=\"text-align: right;\">\n",
       "      <th></th>\n",
       "      <th>precipitation</th>\n",
       "    </tr>\n",
       "    <tr>\n",
       "      <th>date</th>\n",
       "      <th></th>\n",
       "    </tr>\n",
       "  </thead>\n",
       "  <tbody>\n",
       "    <tr>\n",
       "      <th>2012-01-01</th>\n",
       "      <td>0.000000</td>\n",
       "    </tr>\n",
       "    <tr>\n",
       "      <th>2012-01-02</th>\n",
       "      <td>0.194991</td>\n",
       "    </tr>\n",
       "    <tr>\n",
       "      <th>2012-01-03</th>\n",
       "      <td>0.014311</td>\n",
       "    </tr>\n",
       "    <tr>\n",
       "      <th>2012-01-04</th>\n",
       "      <td>0.363148</td>\n",
       "    </tr>\n",
       "    <tr>\n",
       "      <th>2012-01-05</th>\n",
       "      <td>0.023256</td>\n",
       "    </tr>\n",
       "    <tr>\n",
       "      <th>...</th>\n",
       "      <td>...</td>\n",
       "    </tr>\n",
       "    <tr>\n",
       "      <th>2015-12-26</th>\n",
       "      <td>0.000000</td>\n",
       "    </tr>\n",
       "    <tr>\n",
       "      <th>2015-12-27</th>\n",
       "      <td>0.153846</td>\n",
       "    </tr>\n",
       "    <tr>\n",
       "      <th>2015-12-28</th>\n",
       "      <td>0.026834</td>\n",
       "    </tr>\n",
       "    <tr>\n",
       "      <th>2015-12-29</th>\n",
       "      <td>0.000000</td>\n",
       "    </tr>\n",
       "    <tr>\n",
       "      <th>2015-12-30</th>\n",
       "      <td>0.000000</td>\n",
       "    </tr>\n",
       "  </tbody>\n",
       "</table>\n",
       "<p>1460 rows × 1 columns</p>\n",
       "</div>"
      ],
      "text/plain": [
       "            precipitation\n",
       "date                     \n",
       "2012-01-01       0.000000\n",
       "2012-01-02       0.194991\n",
       "2012-01-03       0.014311\n",
       "2012-01-04       0.363148\n",
       "2012-01-05       0.023256\n",
       "...                   ...\n",
       "2015-12-26       0.000000\n",
       "2015-12-27       0.153846\n",
       "2015-12-28       0.026834\n",
       "2015-12-29       0.000000\n",
       "2015-12-30       0.000000\n",
       "\n",
       "[1460 rows x 1 columns]"
      ]
     },
     "execution_count": 75,
     "metadata": {},
     "output_type": "execute_result"
    }
   ],
   "source": [
    "data_prec"
   ]
  },
  {
   "cell_type": "code",
   "execution_count": 76,
   "id": "7f90046c",
   "metadata": {},
   "outputs": [],
   "source": [
    "#Splitting in training and testing samples\n",
    "\n",
    "training_size = round(len(data_prec) * 0.80)\n",
    "train_data = data_prec[:training_size]\n",
    "test_data  = data_prec[training_size:]"
   ]
  },
  {
   "cell_type": "code",
   "execution_count": 77,
   "id": "f8999fd2",
   "metadata": {},
   "outputs": [],
   "source": [
    "#Using timeseries_dataset_from_array function to add timeseries and make the shape of X_train has 3 digits. https://keras.io/api/preprocessing/timeseries/\n",
    "\n",
    "def create_sequence(dataset,sequence_len):\n",
    "  sequences = []\n",
    "  labels = []\n",
    "  start_idx = 0\n",
    "  for stop_idx in range(sequence_len,len(dataset)): \n",
    "    sequences.append(dataset.iloc[start_idx:stop_idx])\n",
    "    labels.append(dataset.iloc[stop_idx])\n",
    "    start_idx += 1\n",
    "  return (np.array(sequences),np.array(labels))"
   ]
  },
  {
   "cell_type": "code",
   "execution_count": 78,
   "id": "54abee63",
   "metadata": {},
   "outputs": [],
   "source": [
    "X_train, y_train = create_sequence(train_data,100)\n",
    "X_test, y_test = create_sequence(test_data,100)"
   ]
  },
  {
   "cell_type": "code",
   "execution_count": 79,
   "id": "b29abc5f",
   "metadata": {},
   "outputs": [
    {
     "data": {
      "text/plain": [
       "(1068, 100, 1)"
      ]
     },
     "execution_count": 79,
     "metadata": {},
     "output_type": "execute_result"
    }
   ],
   "source": [
    "np.shape(X_train)"
   ]
  },
  {
   "cell_type": "code",
   "execution_count": 80,
   "id": "b32925f7",
   "metadata": {},
   "outputs": [
    {
     "data": {
      "text/plain": [
       "(192, 100, 1)"
      ]
     },
     "execution_count": 80,
     "metadata": {},
     "output_type": "execute_result"
    }
   ],
   "source": [
    "np.shape(X_test)"
   ]
  },
  {
   "cell_type": "code",
   "execution_count": 86,
   "id": "b26be0cf",
   "metadata": {},
   "outputs": [
    {
     "data": {
      "text/plain": [
       "1"
      ]
     },
     "execution_count": 86,
     "metadata": {},
     "output_type": "execute_result"
    }
   ],
   "source": [
    "len(X_train[0][0])"
   ]
  },
  {
   "cell_type": "code",
   "execution_count": 87,
   "id": "91fefaed",
   "metadata": {},
   "outputs": [],
   "source": [
    "timesteps = len(X_train[0])\n",
    "input_dim = len(X_train[0][0])"
   ]
  },
  {
   "cell_type": "code",
   "execution_count": 88,
   "id": "1334073a",
   "metadata": {},
   "outputs": [
    {
     "data": {
      "text/plain": [
       "100"
      ]
     },
     "execution_count": 88,
     "metadata": {},
     "output_type": "execute_result"
    }
   ],
   "source": [
    "timesteps"
   ]
  },
  {
   "cell_type": "code",
   "execution_count": 105,
   "id": "45d3c683",
   "metadata": {
    "scrolled": true
   },
   "outputs": [
    {
     "name": "stdout",
     "output_type": "stream",
     "text": [
      "Epoch 1/30\n"
     ]
    },
    {
     "ename": "ValueError",
     "evalue": "in user code:\n\n    File \"C:\\Users\\glooooooria\\anaconda3\\envs\\emi\\lib\\site-packages\\keras\\engine\\training.py\", line 1021, in train_function  *\n        return step_function(self, iterator)\n    File \"C:\\Users\\glooooooria\\anaconda3\\envs\\emi\\lib\\site-packages\\keras\\engine\\training.py\", line 1010, in step_function  **\n        outputs = model.distribute_strategy.run(run_step, args=(data,))\n    File \"C:\\Users\\glooooooria\\anaconda3\\envs\\emi\\lib\\site-packages\\keras\\engine\\training.py\", line 1000, in run_step  **\n        outputs = model.train_step(data)\n    File \"C:\\Users\\glooooooria\\anaconda3\\envs\\emi\\lib\\site-packages\\keras\\engine\\training.py\", line 860, in train_step\n        loss = self.compute_loss(x, y, y_pred, sample_weight)\n    File \"C:\\Users\\glooooooria\\anaconda3\\envs\\emi\\lib\\site-packages\\keras\\engine\\training.py\", line 918, in compute_loss\n        return self.compiled_loss(\n    File \"C:\\Users\\glooooooria\\anaconda3\\envs\\emi\\lib\\site-packages\\keras\\engine\\compile_utils.py\", line 201, in __call__\n        loss_value = loss_obj(y_t, y_p, sample_weight=sw)\n    File \"C:\\Users\\glooooooria\\anaconda3\\envs\\emi\\lib\\site-packages\\keras\\losses.py\", line 141, in __call__\n        losses = call_fn(y_true, y_pred)\n    File \"C:\\Users\\glooooooria\\anaconda3\\envs\\emi\\lib\\site-packages\\keras\\losses.py\", line 245, in call  **\n        return ag_fn(y_true, y_pred, **self._fn_kwargs)\n    File \"C:\\Users\\glooooooria\\anaconda3\\envs\\emi\\lib\\site-packages\\keras\\losses.py\", line 1789, in categorical_crossentropy\n        return backend.categorical_crossentropy(\n    File \"C:\\Users\\glooooooria\\anaconda3\\envs\\emi\\lib\\site-packages\\keras\\backend.py\", line 5083, in categorical_crossentropy\n        target.shape.assert_is_compatible_with(output.shape)\n\n    ValueError: Shapes (None, 1) and (None, 100) are incompatible\n",
     "output_type": "error",
     "traceback": [
      "\u001b[1;31m---------------------------------------------------------------------------\u001b[0m",
      "\u001b[1;31mValueError\u001b[0m                                Traceback (most recent call last)",
      "Input \u001b[1;32mIn [105]\u001b[0m, in \u001b[0;36m<cell line: 17>\u001b[1;34m()\u001b[0m\n\u001b[0;32m     11\u001b[0m model\u001b[38;5;241m.\u001b[39madd(Dense(\u001b[38;5;241m1\u001b[39m))\n\u001b[0;32m     13\u001b[0m model\u001b[38;5;241m.\u001b[39mcompile(loss\u001b[38;5;241m=\u001b[39m\u001b[38;5;124m'\u001b[39m\u001b[38;5;124mcategorical_crossentropy\u001b[39m\u001b[38;5;124m'\u001b[39m, \n\u001b[0;32m     14\u001b[0m               optimizer\u001b[38;5;241m=\u001b[39m\u001b[38;5;124m'\u001b[39m\u001b[38;5;124madam\u001b[39m\u001b[38;5;124m'\u001b[39m,\n\u001b[0;32m     15\u001b[0m               metrics\u001b[38;5;241m=\u001b[39m[\u001b[38;5;124m'\u001b[39m\u001b[38;5;124maccuracy\u001b[39m\u001b[38;5;124m'\u001b[39m])\n\u001b[1;32m---> 17\u001b[0m history \u001b[38;5;241m=\u001b[39m \u001b[43mmodel\u001b[49m\u001b[38;5;241;43m.\u001b[39;49m\u001b[43mfit\u001b[49m\u001b[43m(\u001b[49m\u001b[43mX_train\u001b[49m\u001b[43m,\u001b[49m\u001b[43my_train\u001b[49m\u001b[43m,\u001b[49m\u001b[43m \u001b[49m\u001b[43mvalidation_data\u001b[49m\u001b[38;5;241;43m=\u001b[39;49m\u001b[43m(\u001b[49m\u001b[43mX_test\u001b[49m\u001b[43m,\u001b[49m\u001b[43m \u001b[49m\u001b[43my_test\u001b[49m\u001b[43m)\u001b[49m\u001b[43m,\u001b[49m\u001b[43m \u001b[49m\u001b[43mepochs\u001b[49m\u001b[38;5;241;43m=\u001b[39;49m\u001b[43mepochs\u001b[49m\u001b[43m,\u001b[49m\u001b[43m \u001b[49m\u001b[43mverbose\u001b[49m\u001b[43m \u001b[49m\u001b[38;5;241;43m=\u001b[39;49m\u001b[43m \u001b[49m\u001b[38;5;241;43m1\u001b[39;49m\u001b[43m)\u001b[49m\n",
      "File \u001b[1;32m~\\anaconda3\\envs\\emi\\lib\\site-packages\\keras\\utils\\traceback_utils.py:67\u001b[0m, in \u001b[0;36mfilter_traceback.<locals>.error_handler\u001b[1;34m(*args, **kwargs)\u001b[0m\n\u001b[0;32m     65\u001b[0m \u001b[38;5;28;01mexcept\u001b[39;00m \u001b[38;5;167;01mException\u001b[39;00m \u001b[38;5;28;01mas\u001b[39;00m e:  \u001b[38;5;66;03m# pylint: disable=broad-except\u001b[39;00m\n\u001b[0;32m     66\u001b[0m   filtered_tb \u001b[38;5;241m=\u001b[39m _process_traceback_frames(e\u001b[38;5;241m.\u001b[39m__traceback__)\n\u001b[1;32m---> 67\u001b[0m   \u001b[38;5;28;01mraise\u001b[39;00m e\u001b[38;5;241m.\u001b[39mwith_traceback(filtered_tb) \u001b[38;5;28;01mfrom\u001b[39;00m \u001b[38;5;28mNone\u001b[39m\n\u001b[0;32m     68\u001b[0m \u001b[38;5;28;01mfinally\u001b[39;00m:\n\u001b[0;32m     69\u001b[0m   \u001b[38;5;28;01mdel\u001b[39;00m filtered_tb\n",
      "File \u001b[1;32m~\\anaconda3\\envs\\emi\\lib\\site-packages\\tensorflow\\python\\framework\\func_graph.py:1147\u001b[0m, in \u001b[0;36mfunc_graph_from_py_func.<locals>.autograph_handler\u001b[1;34m(*args, **kwargs)\u001b[0m\n\u001b[0;32m   1145\u001b[0m \u001b[38;5;28;01mexcept\u001b[39;00m \u001b[38;5;167;01mException\u001b[39;00m \u001b[38;5;28;01mas\u001b[39;00m e:  \u001b[38;5;66;03m# pylint:disable=broad-except\u001b[39;00m\n\u001b[0;32m   1146\u001b[0m   \u001b[38;5;28;01mif\u001b[39;00m \u001b[38;5;28mhasattr\u001b[39m(e, \u001b[38;5;124m\"\u001b[39m\u001b[38;5;124mag_error_metadata\u001b[39m\u001b[38;5;124m\"\u001b[39m):\n\u001b[1;32m-> 1147\u001b[0m     \u001b[38;5;28;01mraise\u001b[39;00m e\u001b[38;5;241m.\u001b[39mag_error_metadata\u001b[38;5;241m.\u001b[39mto_exception(e)\n\u001b[0;32m   1148\u001b[0m   \u001b[38;5;28;01melse\u001b[39;00m:\n\u001b[0;32m   1149\u001b[0m     \u001b[38;5;28;01mraise\u001b[39;00m\n",
      "\u001b[1;31mValueError\u001b[0m: in user code:\n\n    File \"C:\\Users\\glooooooria\\anaconda3\\envs\\emi\\lib\\site-packages\\keras\\engine\\training.py\", line 1021, in train_function  *\n        return step_function(self, iterator)\n    File \"C:\\Users\\glooooooria\\anaconda3\\envs\\emi\\lib\\site-packages\\keras\\engine\\training.py\", line 1010, in step_function  **\n        outputs = model.distribute_strategy.run(run_step, args=(data,))\n    File \"C:\\Users\\glooooooria\\anaconda3\\envs\\emi\\lib\\site-packages\\keras\\engine\\training.py\", line 1000, in run_step  **\n        outputs = model.train_step(data)\n    File \"C:\\Users\\glooooooria\\anaconda3\\envs\\emi\\lib\\site-packages\\keras\\engine\\training.py\", line 860, in train_step\n        loss = self.compute_loss(x, y, y_pred, sample_weight)\n    File \"C:\\Users\\glooooooria\\anaconda3\\envs\\emi\\lib\\site-packages\\keras\\engine\\training.py\", line 918, in compute_loss\n        return self.compiled_loss(\n    File \"C:\\Users\\glooooooria\\anaconda3\\envs\\emi\\lib\\site-packages\\keras\\engine\\compile_utils.py\", line 201, in __call__\n        loss_value = loss_obj(y_t, y_p, sample_weight=sw)\n    File \"C:\\Users\\glooooooria\\anaconda3\\envs\\emi\\lib\\site-packages\\keras\\losses.py\", line 141, in __call__\n        losses = call_fn(y_true, y_pred)\n    File \"C:\\Users\\glooooooria\\anaconda3\\envs\\emi\\lib\\site-packages\\keras\\losses.py\", line 245, in call  **\n        return ag_fn(y_true, y_pred, **self._fn_kwargs)\n    File \"C:\\Users\\glooooooria\\anaconda3\\envs\\emi\\lib\\site-packages\\keras\\losses.py\", line 1789, in categorical_crossentropy\n        return backend.categorical_crossentropy(\n    File \"C:\\Users\\glooooooria\\anaconda3\\envs\\emi\\lib\\site-packages\\keras\\backend.py\", line 5083, in categorical_crossentropy\n        target.shape.assert_is_compatible_with(output.shape)\n\n    ValueError: Shapes (None, 1) and (None, 100) are incompatible\n"
     ]
    }
   ],
   "source": [
    "epochs = 30\n",
    "\n",
    "#batch_size = 32\n",
    "\n",
    "n_hidden = 64\n",
    "\n",
    "model = Sequential()\n",
    "model.add(LSTM(n_hidden, return_sequences=True, input_shape=(timesteps, input_dim))) #an LSTM layer\n",
    "model.add(Dropout(0.2)) \n",
    "#model.add(Dense(10, activation='sigmoid'))\n",
    "model.add(Dense(1))\n",
    "\n",
    "model.compile(loss='categorical_crossentropy', \n",
    "              optimizer='adam',\n",
    "              metrics=['accuracy'])\n",
    "\n",
    "history = model.fit(X_train,y_train, validation_data=(X_test, y_test), epochs=epochs, verbose = 1)\n",
    "\n"
   ]
  },
  {
   "cell_type": "code",
   "execution_count": 101,
   "id": "ccc2c108",
   "metadata": {
    "scrolled": true
   },
   "outputs": [
    {
     "name": "stdout",
     "output_type": "stream",
     "text": [
      "Epoch 1/30\n",
      "34/34 [==============================] - 2s 29ms/step - loss: 0.0130 - accuracy: 0.5824 - val_loss: 0.0242 - val_accuracy: 0.5990\n",
      "Epoch 2/30\n",
      "34/34 [==============================] - 1s 21ms/step - loss: 0.0128 - accuracy: 0.5824 - val_loss: 0.0246 - val_accuracy: 0.5990\n",
      "Epoch 3/30\n",
      "34/34 [==============================] - 1s 20ms/step - loss: 0.0129 - accuracy: 0.5824 - val_loss: 0.0245 - val_accuracy: 0.5990\n",
      "Epoch 4/30\n",
      "34/34 [==============================] - 1s 20ms/step - loss: 0.0128 - accuracy: 0.5824 - val_loss: 0.0247 - val_accuracy: 0.5990\n",
      "Epoch 5/30\n",
      "34/34 [==============================] - 1s 20ms/step - loss: 0.0128 - accuracy: 0.5824 - val_loss: 0.0244 - val_accuracy: 0.5990\n",
      "Epoch 6/30\n",
      "34/34 [==============================] - 1s 20ms/step - loss: 0.0128 - accuracy: 0.5824 - val_loss: 0.0245 - val_accuracy: 0.5990\n",
      "Epoch 7/30\n",
      "34/34 [==============================] - 1s 22ms/step - loss: 0.0127 - accuracy: 0.5824 - val_loss: 0.0243 - val_accuracy: 0.5990\n",
      "Epoch 8/30\n",
      "34/34 [==============================] - 1s 21ms/step - loss: 0.0127 - accuracy: 0.5824 - val_loss: 0.0246 - val_accuracy: 0.5990\n",
      "Epoch 9/30\n",
      "34/34 [==============================] - 1s 21ms/step - loss: 0.0127 - accuracy: 0.5824 - val_loss: 0.0242 - val_accuracy: 0.5990\n",
      "Epoch 10/30\n",
      "34/34 [==============================] - 1s 25ms/step - loss: 0.0128 - accuracy: 0.5824 - val_loss: 0.0243 - val_accuracy: 0.5990\n",
      "Epoch 11/30\n",
      "34/34 [==============================] - 1s 22ms/step - loss: 0.0127 - accuracy: 0.5824 - val_loss: 0.0249 - val_accuracy: 0.5990\n",
      "Epoch 12/30\n",
      "34/34 [==============================] - 1s 20ms/step - loss: 0.0128 - accuracy: 0.5824 - val_loss: 0.0242 - val_accuracy: 0.5990\n",
      "Epoch 13/30\n",
      "34/34 [==============================] - 1s 20ms/step - loss: 0.0127 - accuracy: 0.5824 - val_loss: 0.0245 - val_accuracy: 0.5990\n",
      "Epoch 14/30\n",
      "34/34 [==============================] - 1s 20ms/step - loss: 0.0127 - accuracy: 0.5824 - val_loss: 0.0241 - val_accuracy: 0.5990\n",
      "Epoch 15/30\n",
      "34/34 [==============================] - 1s 20ms/step - loss: 0.0127 - accuracy: 0.5824 - val_loss: 0.0251 - val_accuracy: 0.5990\n",
      "Epoch 16/30\n",
      "34/34 [==============================] - 1s 20ms/step - loss: 0.0128 - accuracy: 0.5824 - val_loss: 0.0248 - val_accuracy: 0.5990\n",
      "Epoch 17/30\n",
      "34/34 [==============================] - 1s 20ms/step - loss: 0.0127 - accuracy: 0.5824 - val_loss: 0.0243 - val_accuracy: 0.5990\n",
      "Epoch 18/30\n",
      "34/34 [==============================] - 1s 20ms/step - loss: 0.0127 - accuracy: 0.5824 - val_loss: 0.0245 - val_accuracy: 0.5990\n",
      "Epoch 19/30\n",
      "34/34 [==============================] - 1s 22ms/step - loss: 0.0127 - accuracy: 0.5824 - val_loss: 0.0243 - val_accuracy: 0.5990\n",
      "Epoch 20/30\n",
      "34/34 [==============================] - 1s 21ms/step - loss: 0.0127 - accuracy: 0.5824 - val_loss: 0.0244 - val_accuracy: 0.5990\n",
      "Epoch 21/30\n",
      "34/34 [==============================] - 1s 20ms/step - loss: 0.0127 - accuracy: 0.5824 - val_loss: 0.0245 - val_accuracy: 0.5990\n",
      "Epoch 22/30\n",
      "34/34 [==============================] - 1s 20ms/step - loss: 0.0127 - accuracy: 0.5824 - val_loss: 0.0245 - val_accuracy: 0.5990\n",
      "Epoch 23/30\n",
      "34/34 [==============================] - 1s 20ms/step - loss: 0.0127 - accuracy: 0.5824 - val_loss: 0.0242 - val_accuracy: 0.5990\n",
      "Epoch 24/30\n",
      "34/34 [==============================] - 1s 21ms/step - loss: 0.0127 - accuracy: 0.5824 - val_loss: 0.0247 - val_accuracy: 0.5990\n",
      "Epoch 25/30\n",
      "34/34 [==============================] - 1s 21ms/step - loss: 0.0127 - accuracy: 0.5824 - val_loss: 0.0244 - val_accuracy: 0.5990\n",
      "Epoch 26/30\n",
      "34/34 [==============================] - 1s 21ms/step - loss: 0.0128 - accuracy: 0.5824 - val_loss: 0.0246 - val_accuracy: 0.5990\n",
      "Epoch 27/30\n",
      "34/34 [==============================] - 1s 23ms/step - loss: 0.0127 - accuracy: 0.5824 - val_loss: 0.0245 - val_accuracy: 0.5990\n",
      "Epoch 28/30\n",
      "34/34 [==============================] - 1s 22ms/step - loss: 0.0127 - accuracy: 0.5824 - val_loss: 0.0248 - val_accuracy: 0.5990\n",
      "Epoch 29/30\n",
      "34/34 [==============================] - 1s 20ms/step - loss: 0.0127 - accuracy: 0.5824 - val_loss: 0.0245 - val_accuracy: 0.5990\n",
      "Epoch 30/30\n",
      "34/34 [==============================] - 1s 20ms/step - loss: 0.0127 - accuracy: 0.5824 - val_loss: 0.0244 - val_accuracy: 0.5990\n"
     ]
    }
   ],
   "source": [
    "epochs = 30\n",
    "\n",
    "#batch_size = 32\n",
    "\n",
    "n_hidden = 64\n",
    "\n",
    "model = Sequential()\n",
    "model.add(LSTM(n_hidden, return_sequences=True, input_shape=(timesteps, input_dim))) #an LSTM layer\n",
    "model.add(Dropout(0.2)) \n",
    "#model.add(Dense(10, activation='sigmoid'))\n",
    "model.add(Dense(1))\n",
    "\n",
    "model.compile(loss='mean_squared_error', \n",
    "              optimizer='adam',\n",
    "              metrics=['accuracy'])\n",
    "\n",
    "history = model.fit(X_train,y_train, epochs=epochs, validation_data=(X_test, y_test), verbose = 1)\n",
    "\n",
    "#print(confusion_matrix(Y_test, model.predict(X_test)))"
   ]
  },
  {
   "cell_type": "code",
   "execution_count": 100,
   "id": "7a19292b",
   "metadata": {
    "scrolled": true
   },
   "outputs": [
    {
     "name": "stdout",
     "output_type": "stream",
     "text": [
      "Epoch 1/30\n",
      "34/34 [==============================] - 2s 28ms/step - loss: 0.0131 - mean_absolute_error: 0.0694 - val_loss: 0.0244 - val_mean_absolute_error: 0.0863\n",
      "Epoch 2/30\n",
      "34/34 [==============================] - 1s 23ms/step - loss: 0.0128 - mean_absolute_error: 0.0703 - val_loss: 0.0246 - val_mean_absolute_error: 0.0853\n",
      "Epoch 3/30\n",
      "34/34 [==============================] - 1s 22ms/step - loss: 0.0128 - mean_absolute_error: 0.0702 - val_loss: 0.0246 - val_mean_absolute_error: 0.0852\n",
      "Epoch 4/30\n",
      "34/34 [==============================] - 1s 21ms/step - loss: 0.0127 - mean_absolute_error: 0.0713 - val_loss: 0.0249 - val_mean_absolute_error: 0.0823\n",
      "Epoch 5/30\n",
      "34/34 [==============================] - 1s 22ms/step - loss: 0.0128 - mean_absolute_error: 0.0692 - val_loss: 0.0241 - val_mean_absolute_error: 0.0916\n",
      "Epoch 6/30\n",
      "34/34 [==============================] - 1s 22ms/step - loss: 0.0127 - mean_absolute_error: 0.0713 - val_loss: 0.0246 - val_mean_absolute_error: 0.0848\n",
      "Epoch 7/30\n",
      "34/34 [==============================] - 1s 22ms/step - loss: 0.0128 - mean_absolute_error: 0.0708 - val_loss: 0.0249 - val_mean_absolute_error: 0.0817\n",
      "Epoch 8/30\n",
      "34/34 [==============================] - 1s 21ms/step - loss: 0.0127 - mean_absolute_error: 0.0713 - val_loss: 0.0246 - val_mean_absolute_error: 0.0840\n",
      "Epoch 9/30\n",
      "34/34 [==============================] - 1s 21ms/step - loss: 0.0128 - mean_absolute_error: 0.0711 - val_loss: 0.0247 - val_mean_absolute_error: 0.0838\n",
      "Epoch 10/30\n",
      "34/34 [==============================] - 1s 21ms/step - loss: 0.0128 - mean_absolute_error: 0.0703 - val_loss: 0.0244 - val_mean_absolute_error: 0.0870\n",
      "Epoch 11/30\n",
      "34/34 [==============================] - 1s 21ms/step - loss: 0.0127 - mean_absolute_error: 0.0682 - val_loss: 0.0241 - val_mean_absolute_error: 0.0937\n",
      "Epoch 12/30\n",
      "34/34 [==============================] - 1s 22ms/step - loss: 0.0128 - mean_absolute_error: 0.0737 - val_loss: 0.0247 - val_mean_absolute_error: 0.0839\n",
      "Epoch 13/30\n",
      "34/34 [==============================] - 1s 22ms/step - loss: 0.0127 - mean_absolute_error: 0.0701 - val_loss: 0.0244 - val_mean_absolute_error: 0.0871\n",
      "Epoch 14/30\n",
      "34/34 [==============================] - 1s 22ms/step - loss: 0.0128 - mean_absolute_error: 0.0719 - val_loss: 0.0246 - val_mean_absolute_error: 0.0848\n",
      "Epoch 15/30\n",
      "34/34 [==============================] - 1s 22ms/step - loss: 0.0128 - mean_absolute_error: 0.0698 - val_loss: 0.0244 - val_mean_absolute_error: 0.0869\n",
      "Epoch 16/30\n",
      "34/34 [==============================] - 1s 21ms/step - loss: 0.0127 - mean_absolute_error: 0.0691 - val_loss: 0.0243 - val_mean_absolute_error: 0.0887\n",
      "Epoch 17/30\n",
      "34/34 [==============================] - 1s 21ms/step - loss: 0.0127 - mean_absolute_error: 0.0711 - val_loss: 0.0245 - val_mean_absolute_error: 0.0850\n",
      "Epoch 18/30\n",
      "34/34 [==============================] - 1s 22ms/step - loss: 0.0127 - mean_absolute_error: 0.0712 - val_loss: 0.0246 - val_mean_absolute_error: 0.0844\n",
      "Epoch 19/30\n",
      "34/34 [==============================] - 1s 22ms/step - loss: 0.0127 - mean_absolute_error: 0.0679 - val_loss: 0.0242 - val_mean_absolute_error: 0.0911\n",
      "Epoch 20/30\n",
      "34/34 [==============================] - 1s 24ms/step - loss: 0.0128 - mean_absolute_error: 0.0728 - val_loss: 0.0248 - val_mean_absolute_error: 0.0829\n",
      "Epoch 21/30\n",
      "34/34 [==============================] - 1s 22ms/step - loss: 0.0127 - mean_absolute_error: 0.0711 - val_loss: 0.0245 - val_mean_absolute_error: 0.0858\n",
      "Epoch 22/30\n",
      "34/34 [==============================] - 1s 21ms/step - loss: 0.0127 - mean_absolute_error: 0.0709 - val_loss: 0.0246 - val_mean_absolute_error: 0.0848\n",
      "Epoch 23/30\n",
      "34/34 [==============================] - 1s 22ms/step - loss: 0.0128 - mean_absolute_error: 0.0710 - val_loss: 0.0244 - val_mean_absolute_error: 0.0871\n",
      "Epoch 24/30\n",
      "34/34 [==============================] - 1s 23ms/step - loss: 0.0128 - mean_absolute_error: 0.0691 - val_loss: 0.0247 - val_mean_absolute_error: 0.0838\n",
      "Epoch 25/30\n",
      "34/34 [==============================] - 1s 24ms/step - loss: 0.0127 - mean_absolute_error: 0.0717 - val_loss: 0.0245 - val_mean_absolute_error: 0.0862\n",
      "Epoch 26/30\n",
      "34/34 [==============================] - 1s 21ms/step - loss: 0.0127 - mean_absolute_error: 0.0695 - val_loss: 0.0242 - val_mean_absolute_error: 0.0894\n",
      "Epoch 27/30\n",
      "34/34 [==============================] - 1s 22ms/step - loss: 0.0127 - mean_absolute_error: 0.0701 - val_loss: 0.0244 - val_mean_absolute_error: 0.0868\n",
      "Epoch 28/30\n",
      "34/34 [==============================] - 1s 21ms/step - loss: 0.0127 - mean_absolute_error: 0.0721 - val_loss: 0.0245 - val_mean_absolute_error: 0.0853\n",
      "Epoch 29/30\n",
      "34/34 [==============================] - 1s 21ms/step - loss: 0.0127 - mean_absolute_error: 0.0706 - val_loss: 0.0246 - val_mean_absolute_error: 0.0846\n",
      "Epoch 30/30\n",
      "34/34 [==============================] - 1s 21ms/step - loss: 0.0127 - mean_absolute_error: 0.0709 - val_loss: 0.0245 - val_mean_absolute_error: 0.0858\n"
     ]
    },
    {
     "ename": "NameError",
     "evalue": "name 'confusion_matrix' is not defined",
     "output_type": "error",
     "traceback": [
      "\u001b[1;31m---------------------------------------------------------------------------\u001b[0m",
      "\u001b[1;31mNameError\u001b[0m                                 Traceback (most recent call last)",
      "Input \u001b[1;32mIn [100]\u001b[0m, in \u001b[0;36m<cell line: 19>\u001b[1;34m()\u001b[0m\n\u001b[0;32m     13\u001b[0m model\u001b[38;5;241m.\u001b[39mcompile(loss\u001b[38;5;241m=\u001b[39m\u001b[38;5;124m'\u001b[39m\u001b[38;5;124mmean_squared_error\u001b[39m\u001b[38;5;124m'\u001b[39m, \n\u001b[0;32m     14\u001b[0m               optimizer\u001b[38;5;241m=\u001b[39m\u001b[38;5;124m'\u001b[39m\u001b[38;5;124madam\u001b[39m\u001b[38;5;124m'\u001b[39m,\n\u001b[0;32m     15\u001b[0m               metrics\u001b[38;5;241m=\u001b[39m[\u001b[38;5;124m'\u001b[39m\u001b[38;5;124mmean_absolute_error\u001b[39m\u001b[38;5;124m'\u001b[39m])\n\u001b[0;32m     17\u001b[0m history \u001b[38;5;241m=\u001b[39m model\u001b[38;5;241m.\u001b[39mfit(X_train,y_train, epochs\u001b[38;5;241m=\u001b[39mepochs, validation_data\u001b[38;5;241m=\u001b[39m(X_test, y_test), verbose \u001b[38;5;241m=\u001b[39m \u001b[38;5;241m1\u001b[39m)\n\u001b[1;32m---> 19\u001b[0m \u001b[38;5;28mprint\u001b[39m(\u001b[43mconfusion_matrix\u001b[49m(Y_test, model\u001b[38;5;241m.\u001b[39mpredict(X_test)))\n",
      "\u001b[1;31mNameError\u001b[0m: name 'confusion_matrix' is not defined"
     ]
    }
   ],
   "source": [
    "#Creating LSTM for regression\n",
    "\n",
    "epochs = 30\n",
    "\n",
    "#batch_size = 32\n",
    "\n",
    "n_hidden = 64\n",
    "\n",
    "model = Sequential()\n",
    "model.add(LSTM(n_hidden, return_sequences=True, input_shape=(timesteps, input_dim))) #an LSTM layer\n",
    "model.add(Dropout(0.2)) \n",
    "#model.add(Dense(10, activation='sigmoid'))\n",
    "model.add(Dense(1))\n",
    "\n",
    "model.compile(loss='mean_squared_error', \n",
    "              optimizer='adam',\n",
    "              metrics=['mean_absolute_error'])\n",
    "\n",
    "history = model.fit(X_train,y_train, epochs=epochs, validation_data=(X_test, y_test), verbose = 1)\n",
    "\n",
    "print(confusion_matrix(Y_test, model.predict(X_test)))"
   ]
  },
  {
   "cell_type": "code",
   "execution_count": null,
   "id": "8ee32604",
   "metadata": {},
   "outputs": [],
   "source": []
  },
  {
   "cell_type": "code",
   "execution_count": 106,
   "id": "e6303a0f",
   "metadata": {},
   "outputs": [],
   "source": [
    "epochs = 50\n",
    "\n",
    "#batch_size = 32\n",
    "\n",
    "n_hidden = 64\n",
    "\n",
    "model = Sequential()\n",
    "model.add(LSTM(n_hidden, return_sequences=True, input_shape=(timesteps, input_dim))) #an LSTM layer\n",
    "model.add(Dropout(0.2)) \n",
    "#model.add(Dense(10, activation='sigmoid'))\n",
    "model.add(Dense(1))\n",
    "\n",
    "model.compile(loss='mean_squared_error', \n",
    "              optimizer='adam',\n",
    "              metrics=['mean_absolute_error'])\n"
   ]
  },
  {
   "cell_type": "code",
   "execution_count": 107,
   "id": "fe677376",
   "metadata": {
    "scrolled": true
   },
   "outputs": [
    {
     "name": "stdout",
     "output_type": "stream",
     "text": [
      "Epoch 1/50\n",
      "34/34 [==============================] - 2s 33ms/step - loss: 0.0131 - mean_absolute_error: 0.0692 - val_loss: 0.0245 - val_mean_absolute_error: 0.0843\n",
      "Epoch 2/50\n",
      "34/34 [==============================] - 1s 27ms/step - loss: 0.0128 - mean_absolute_error: 0.0694 - val_loss: 0.0243 - val_mean_absolute_error: 0.0881\n",
      "Epoch 3/50\n",
      "34/34 [==============================] - 1s 27ms/step - loss: 0.0128 - mean_absolute_error: 0.0705 - val_loss: 0.0246 - val_mean_absolute_error: 0.0848\n",
      "Epoch 4/50\n",
      "34/34 [==============================] - 1s 27ms/step - loss: 0.0128 - mean_absolute_error: 0.0718 - val_loss: 0.0245 - val_mean_absolute_error: 0.0868\n",
      "Epoch 5/50\n",
      "34/34 [==============================] - 1s 27ms/step - loss: 0.0129 - mean_absolute_error: 0.0713 - val_loss: 0.0252 - val_mean_absolute_error: 0.0790\n",
      "Epoch 6/50\n",
      "34/34 [==============================] - 1s 27ms/step - loss: 0.0128 - mean_absolute_error: 0.0700 - val_loss: 0.0245 - val_mean_absolute_error: 0.0859\n",
      "Epoch 7/50\n",
      "34/34 [==============================] - 1s 27ms/step - loss: 0.0128 - mean_absolute_error: 0.0714 - val_loss: 0.0255 - val_mean_absolute_error: 0.0772\n",
      "Epoch 8/50\n",
      "34/34 [==============================] - 1s 28ms/step - loss: 0.0128 - mean_absolute_error: 0.0699 - val_loss: 0.0244 - val_mean_absolute_error: 0.0866\n",
      "Epoch 9/50\n",
      "34/34 [==============================] - 1s 29ms/step - loss: 0.0127 - mean_absolute_error: 0.0711 - val_loss: 0.0246 - val_mean_absolute_error: 0.0850\n",
      "Epoch 10/50\n",
      "34/34 [==============================] - 1s 32ms/step - loss: 0.0128 - mean_absolute_error: 0.0691 - val_loss: 0.0243 - val_mean_absolute_error: 0.0889\n",
      "Epoch 11/50\n",
      "34/34 [==============================] - 1s 32ms/step - loss: 0.0127 - mean_absolute_error: 0.0710 - val_loss: 0.0244 - val_mean_absolute_error: 0.0869\n",
      "Epoch 12/50\n",
      "34/34 [==============================] - 1s 30ms/step - loss: 0.0127 - mean_absolute_error: 0.0716 - val_loss: 0.0246 - val_mean_absolute_error: 0.0844\n",
      "Epoch 13/50\n",
      "34/34 [==============================] - 1s 29ms/step - loss: 0.0128 - mean_absolute_error: 0.0686 - val_loss: 0.0243 - val_mean_absolute_error: 0.0898\n",
      "Epoch 14/50\n",
      "34/34 [==============================] - 1s 30ms/step - loss: 0.0128 - mean_absolute_error: 0.0723 - val_loss: 0.0248 - val_mean_absolute_error: 0.0824\n",
      "Epoch 15/50\n",
      "34/34 [==============================] - 1s 30ms/step - loss: 0.0128 - mean_absolute_error: 0.0676 - val_loss: 0.0242 - val_mean_absolute_error: 0.0891\n",
      "Epoch 16/50\n",
      "34/34 [==============================] - 1s 28ms/step - loss: 0.0127 - mean_absolute_error: 0.0711 - val_loss: 0.0246 - val_mean_absolute_error: 0.0850\n",
      "Epoch 17/50\n",
      "34/34 [==============================] - 1s 30ms/step - loss: 0.0127 - mean_absolute_error: 0.0710 - val_loss: 0.0245 - val_mean_absolute_error: 0.0857\n",
      "Epoch 18/50\n",
      "34/34 [==============================] - 1s 28ms/step - loss: 0.0127 - mean_absolute_error: 0.0714 - val_loss: 0.0247 - val_mean_absolute_error: 0.0840\n",
      "Epoch 19/50\n",
      "34/34 [==============================] - 1s 28ms/step - loss: 0.0128 - mean_absolute_error: 0.0698 - val_loss: 0.0245 - val_mean_absolute_error: 0.0858\n",
      "Epoch 20/50\n",
      "34/34 [==============================] - 1s 28ms/step - loss: 0.0127 - mean_absolute_error: 0.0711 - val_loss: 0.0244 - val_mean_absolute_error: 0.0876\n",
      "Epoch 21/50\n",
      "34/34 [==============================] - 1s 28ms/step - loss: 0.0127 - mean_absolute_error: 0.0693 - val_loss: 0.0244 - val_mean_absolute_error: 0.0880\n",
      "Epoch 22/50\n",
      "34/34 [==============================] - 1s 29ms/step - loss: 0.0127 - mean_absolute_error: 0.0711 - val_loss: 0.0243 - val_mean_absolute_error: 0.0881\n",
      "Epoch 23/50\n",
      "34/34 [==============================] - 1s 28ms/step - loss: 0.0127 - mean_absolute_error: 0.0711 - val_loss: 0.0244 - val_mean_absolute_error: 0.0865\n",
      "Epoch 24/50\n",
      "34/34 [==============================] - 1s 27ms/step - loss: 0.0127 - mean_absolute_error: 0.0709 - val_loss: 0.0245 - val_mean_absolute_error: 0.0861\n",
      "Epoch 25/50\n",
      "34/34 [==============================] - 1s 27ms/step - loss: 0.0127 - mean_absolute_error: 0.0698 - val_loss: 0.0245 - val_mean_absolute_error: 0.0861\n",
      "Epoch 26/50\n",
      "34/34 [==============================] - 1s 31ms/step - loss: 0.0127 - mean_absolute_error: 0.0709 - val_loss: 0.0248 - val_mean_absolute_error: 0.0829\n",
      "Epoch 27/50\n",
      "34/34 [==============================] - 1s 31ms/step - loss: 0.0127 - mean_absolute_error: 0.0699 - val_loss: 0.0244 - val_mean_absolute_error: 0.0866\n",
      "Epoch 28/50\n",
      "34/34 [==============================] - 1s 28ms/step - loss: 0.0127 - mean_absolute_error: 0.0698 - val_loss: 0.0243 - val_mean_absolute_error: 0.0890\n",
      "Epoch 29/50\n",
      "34/34 [==============================] - 1s 31ms/step - loss: 0.0127 - mean_absolute_error: 0.0723 - val_loss: 0.0244 - val_mean_absolute_error: 0.0878\n",
      "Epoch 30/50\n",
      "34/34 [==============================] - 1s 31ms/step - loss: 0.0128 - mean_absolute_error: 0.0705 - val_loss: 0.0243 - val_mean_absolute_error: 0.0891\n",
      "Epoch 31/50\n",
      "34/34 [==============================] - 1s 29ms/step - loss: 0.0127 - mean_absolute_error: 0.0699 - val_loss: 0.0245 - val_mean_absolute_error: 0.0859\n",
      "Epoch 32/50\n",
      "34/34 [==============================] - 1s 27ms/step - loss: 0.0127 - mean_absolute_error: 0.0707 - val_loss: 0.0244 - val_mean_absolute_error: 0.0882\n",
      "Epoch 33/50\n",
      "34/34 [==============================] - 1s 27ms/step - loss: 0.0127 - mean_absolute_error: 0.0712 - val_loss: 0.0245 - val_mean_absolute_error: 0.0860\n",
      "Epoch 34/50\n",
      "34/34 [==============================] - 1s 28ms/step - loss: 0.0127 - mean_absolute_error: 0.0716 - val_loss: 0.0244 - val_mean_absolute_error: 0.0871\n",
      "Epoch 35/50\n",
      "34/34 [==============================] - 1s 29ms/step - loss: 0.0127 - mean_absolute_error: 0.0695 - val_loss: 0.0244 - val_mean_absolute_error: 0.0867\n",
      "Epoch 36/50\n",
      "34/34 [==============================] - 1s 32ms/step - loss: 0.0127 - mean_absolute_error: 0.0712 - val_loss: 0.0245 - val_mean_absolute_error: 0.0855\n",
      "Epoch 37/50\n",
      "34/34 [==============================] - 1s 31ms/step - loss: 0.0127 - mean_absolute_error: 0.0691 - val_loss: 0.0243 - val_mean_absolute_error: 0.0895\n",
      "Epoch 38/50\n",
      "34/34 [==============================] - 1s 29ms/step - loss: 0.0127 - mean_absolute_error: 0.0729 - val_loss: 0.0246 - val_mean_absolute_error: 0.0845\n",
      "Epoch 39/50\n",
      "34/34 [==============================] - 1s 27ms/step - loss: 0.0127 - mean_absolute_error: 0.0682 - val_loss: 0.0243 - val_mean_absolute_error: 0.0886\n",
      "Epoch 40/50\n",
      "34/34 [==============================] - 1s 28ms/step - loss: 0.0127 - mean_absolute_error: 0.0723 - val_loss: 0.0244 - val_mean_absolute_error: 0.0869\n",
      "Epoch 41/50\n",
      "34/34 [==============================] - 1s 26ms/step - loss: 0.0127 - mean_absolute_error: 0.0697 - val_loss: 0.0244 - val_mean_absolute_error: 0.0871\n",
      "Epoch 42/50\n",
      "34/34 [==============================] - 1s 28ms/step - loss: 0.0127 - mean_absolute_error: 0.0715 - val_loss: 0.0244 - val_mean_absolute_error: 0.0869\n",
      "Epoch 43/50\n",
      "34/34 [==============================] - 1s 28ms/step - loss: 0.0128 - mean_absolute_error: 0.0694 - val_loss: 0.0243 - val_mean_absolute_error: 0.0884\n",
      "Epoch 44/50\n",
      "34/34 [==============================] - 1s 28ms/step - loss: 0.0127 - mean_absolute_error: 0.0709 - val_loss: 0.0243 - val_mean_absolute_error: 0.0885\n",
      "Epoch 45/50\n",
      "34/34 [==============================] - 1s 26ms/step - loss: 0.0127 - mean_absolute_error: 0.0695 - val_loss: 0.0245 - val_mean_absolute_error: 0.0867\n",
      "Epoch 46/50\n",
      "34/34 [==============================] - 1s 27ms/step - loss: 0.0127 - mean_absolute_error: 0.0724 - val_loss: 0.0245 - val_mean_absolute_error: 0.0858\n",
      "Epoch 47/50\n",
      "34/34 [==============================] - 1s 27ms/step - loss: 0.0127 - mean_absolute_error: 0.0715 - val_loss: 0.0244 - val_mean_absolute_error: 0.0868\n",
      "Epoch 48/50\n",
      "34/34 [==============================] - 1s 28ms/step - loss: 0.0127 - mean_absolute_error: 0.0703 - val_loss: 0.0244 - val_mean_absolute_error: 0.0875\n",
      "Epoch 49/50\n",
      "34/34 [==============================] - 1s 26ms/step - loss: 0.0127 - mean_absolute_error: 0.0686 - val_loss: 0.0243 - val_mean_absolute_error: 0.0887\n",
      "Epoch 50/50\n",
      "34/34 [==============================] - 1s 28ms/step - loss: 0.0128 - mean_absolute_error: 0.0723 - val_loss: 0.0246 - val_mean_absolute_error: 0.0855\n"
     ]
    }
   ],
   "source": [
    "history = model.fit(X_train,y_train, epochs=epochs, validation_data=(X_test, y_test), verbose = 1)\n"
   ]
  },
  {
   "cell_type": "code",
   "execution_count": 110,
   "id": "df51e40a",
   "metadata": {},
   "outputs": [
    {
     "data": {
      "image/png": "[encoded data removed]",
      "text/plain": [
       "<Figure size 864x288 with 2 Axes>"
      ]
     },
     "metadata": {},
     "output_type": "display_data"
    }
   ],
   "source": [
    "#Plot of error and loss\n",
    "error = history.history['mean_absolute_error']\n",
    "val_error = history.history['val_mean_absolute_error']\n",
    "\n",
    "loss = history.history['loss']\n",
    "val_loss = history.history['val_loss']\n",
    "\n",
    "epochs_range = range(1, len(val_error)+1)\n",
    "plt.figure(figsize=(12, 4))\n",
    "\n",
    "plt.subplot(1, 2, 1)\n",
    "plt.plot(epochs_range, error, label='Training error')\n",
    "plt.plot(epochs_range, val_error, label='Validation error')\n",
    "plt.legend(loc='lower right')\n",
    "plt.xlim(1, len(val_error)+1)\n",
    "plt.title('Training and Validation error')\n",
    "\n",
    "plt.subplot(1, 2, 2)\n",
    "plt.plot(epochs_range, loss, label='Training Loss')\n",
    "plt.plot(epochs_range, val_loss, label='Validation Loss')\n",
    "plt.legend(loc='upper right')\n",
    "plt.xlim(1, len(val_error)+1)\n",
    "plt.title('Training and Validation Loss')\n",
    "plt.show()"
   ]
  },
  {
   "cell_type": "code",
   "execution_count": 114,
   "id": "17597522",
   "metadata": {},
   "outputs": [],
   "source": [
    "test_predicted = model.predict(X_test)"
   ]
  },
  {
   "cell_type": "code",
   "execution_count": 113,
   "id": "812a8a2b",
   "metadata": {
    "scrolled": true
   },
   "outputs": [
    {
     "ename": "ValueError",
     "evalue": "x and y can be no greater than 2D, but have shapes (192,) and (192, 100, 1)",
     "output_type": "error",
     "traceback": [
      "\u001b[1;31m---------------------------------------------------------------------------\u001b[0m",
      "\u001b[1;31mValueError\u001b[0m                                Traceback (most recent call last)",
      "Input \u001b[1;32mIn [113]\u001b[0m, in \u001b[0;36m<cell line: 5>\u001b[1;34m()\u001b[0m\n\u001b[0;32m      3\u001b[0m fig\u001b[38;5;241m=\u001b[39mplt\u001b[38;5;241m.\u001b[39mfigure(figsize\u001b[38;5;241m=\u001b[39m(\u001b[38;5;241m20\u001b[39m,\u001b[38;5;241m5\u001b[39m))\n\u001b[0;32m      4\u001b[0m plt\u001b[38;5;241m.\u001b[39msubplot(\u001b[38;5;241m1\u001b[39m,\u001b[38;5;241m2\u001b[39m,\u001b[38;5;241m1\u001b[39m)\n\u001b[1;32m----> 5\u001b[0m \u001b[43mplt\u001b[49m\u001b[38;5;241;43m.\u001b[39;49m\u001b[43mplot\u001b[49m\u001b[43m(\u001b[49m\u001b[43mtest_predicted\u001b[49m\u001b[43m,\u001b[49m\u001b[43mlabel\u001b[49m\u001b[38;5;241;43m=\u001b[39;49m\u001b[38;5;124;43m'\u001b[39;49m\u001b[38;5;124;43mprecipitation, predicted\u001b[39;49m\u001b[38;5;124;43m'\u001b[39;49m\u001b[43m)\u001b[49m\n\u001b[0;32m      6\u001b[0m plt\u001b[38;5;241m.\u001b[39mplot(y_test,label\u001b[38;5;241m=\u001b[39m\u001b[38;5;124m\"\u001b[39m\u001b[38;5;124mprecipitation\u001b[39m\u001b[38;5;124m\"\u001b[39m)\n\u001b[0;32m      7\u001b[0m plt\u001b[38;5;241m.\u001b[39mtitle(\u001b[38;5;124m'\u001b[39m\u001b[38;5;124mPrediction on Seattle weather\u001b[39m\u001b[38;5;124m'\u001b[39m)\n",
      "File \u001b[1;32m~\\anaconda3\\envs\\emi\\lib\\site-packages\\matplotlib\\pyplot.py:2757\u001b[0m, in \u001b[0;36mplot\u001b[1;34m(scalex, scaley, data, *args, **kwargs)\u001b[0m\n\u001b[0;32m   2755\u001b[0m \u001b[38;5;129m@_copy_docstring_and_deprecators\u001b[39m(Axes\u001b[38;5;241m.\u001b[39mplot)\n\u001b[0;32m   2756\u001b[0m \u001b[38;5;28;01mdef\u001b[39;00m \u001b[38;5;21mplot\u001b[39m(\u001b[38;5;241m*\u001b[39margs, scalex\u001b[38;5;241m=\u001b[39m\u001b[38;5;28;01mTrue\u001b[39;00m, scaley\u001b[38;5;241m=\u001b[39m\u001b[38;5;28;01mTrue\u001b[39;00m, data\u001b[38;5;241m=\u001b[39m\u001b[38;5;28;01mNone\u001b[39;00m, \u001b[38;5;241m*\u001b[39m\u001b[38;5;241m*\u001b[39mkwargs):\n\u001b[1;32m-> 2757\u001b[0m     \u001b[38;5;28;01mreturn\u001b[39;00m gca()\u001b[38;5;241m.\u001b[39mplot(\n\u001b[0;32m   2758\u001b[0m         \u001b[38;5;241m*\u001b[39margs, scalex\u001b[38;5;241m=\u001b[39mscalex, scaley\u001b[38;5;241m=\u001b[39mscaley,\n\u001b[0;32m   2759\u001b[0m         \u001b[38;5;241m*\u001b[39m\u001b[38;5;241m*\u001b[39m({\u001b[38;5;124m\"\u001b[39m\u001b[38;5;124mdata\u001b[39m\u001b[38;5;124m\"\u001b[39m: data} \u001b[38;5;28;01mif\u001b[39;00m data \u001b[38;5;129;01mis\u001b[39;00m \u001b[38;5;129;01mnot\u001b[39;00m \u001b[38;5;28;01mNone\u001b[39;00m \u001b[38;5;28;01melse\u001b[39;00m {}), \u001b[38;5;241m*\u001b[39m\u001b[38;5;241m*\u001b[39mkwargs)\n",
      "File \u001b[1;32m~\\anaconda3\\envs\\emi\\lib\\site-packages\\matplotlib\\axes\\_axes.py:1632\u001b[0m, in \u001b[0;36mAxes.plot\u001b[1;34m(self, scalex, scaley, data, *args, **kwargs)\u001b[0m\n\u001b[0;32m   1390\u001b[0m \u001b[38;5;124;03m\"\"\"\u001b[39;00m\n\u001b[0;32m   1391\u001b[0m \u001b[38;5;124;03mPlot y versus x as lines and/or markers.\u001b[39;00m\n\u001b[0;32m   1392\u001b[0m \n\u001b[1;32m   (...)\u001b[0m\n\u001b[0;32m   1629\u001b[0m \u001b[38;5;124;03m(``'green'``) or hex strings (``'#008000'``).\u001b[39;00m\n\u001b[0;32m   1630\u001b[0m \u001b[38;5;124;03m\"\"\"\u001b[39;00m\n\u001b[0;32m   1631\u001b[0m kwargs \u001b[38;5;241m=\u001b[39m cbook\u001b[38;5;241m.\u001b[39mnormalize_kwargs(kwargs, mlines\u001b[38;5;241m.\u001b[39mLine2D)\n\u001b[1;32m-> 1632\u001b[0m lines \u001b[38;5;241m=\u001b[39m [\u001b[38;5;241m*\u001b[39m\u001b[38;5;28mself\u001b[39m\u001b[38;5;241m.\u001b[39m_get_lines(\u001b[38;5;241m*\u001b[39margs, data\u001b[38;5;241m=\u001b[39mdata, \u001b[38;5;241m*\u001b[39m\u001b[38;5;241m*\u001b[39mkwargs)]\n\u001b[0;32m   1633\u001b[0m \u001b[38;5;28;01mfor\u001b[39;00m line \u001b[38;5;129;01min\u001b[39;00m lines:\n\u001b[0;32m   1634\u001b[0m     \u001b[38;5;28mself\u001b[39m\u001b[38;5;241m.\u001b[39madd_line(line)\n",
      "File \u001b[1;32m~\\anaconda3\\envs\\emi\\lib\\site-packages\\matplotlib\\axes\\_base.py:312\u001b[0m, in \u001b[0;36m_process_plot_var_args.__call__\u001b[1;34m(self, data, *args, **kwargs)\u001b[0m\n\u001b[0;32m    310\u001b[0m     this \u001b[38;5;241m+\u001b[39m\u001b[38;5;241m=\u001b[39m args[\u001b[38;5;241m0\u001b[39m],\n\u001b[0;32m    311\u001b[0m     args \u001b[38;5;241m=\u001b[39m args[\u001b[38;5;241m1\u001b[39m:]\n\u001b[1;32m--> 312\u001b[0m \u001b[38;5;28;01myield from\u001b[39;00m \u001b[38;5;28;43mself\u001b[39;49m\u001b[38;5;241;43m.\u001b[39;49m\u001b[43m_plot_args\u001b[49m\u001b[43m(\u001b[49m\u001b[43mthis\u001b[49m\u001b[43m,\u001b[49m\u001b[43m \u001b[49m\u001b[43mkwargs\u001b[49m\u001b[43m)\u001b[49m\n",
      "File \u001b[1;32m~\\anaconda3\\envs\\emi\\lib\\site-packages\\matplotlib\\axes\\_base.py:501\u001b[0m, in \u001b[0;36m_process_plot_var_args._plot_args\u001b[1;34m(self, tup, kwargs, return_kwargs)\u001b[0m\n\u001b[0;32m    498\u001b[0m     \u001b[38;5;28;01mraise\u001b[39;00m \u001b[38;5;167;01mValueError\u001b[39;00m(\u001b[38;5;124mf\u001b[39m\u001b[38;5;124m\"\u001b[39m\u001b[38;5;124mx and y must have same first dimension, but \u001b[39m\u001b[38;5;124m\"\u001b[39m\n\u001b[0;32m    499\u001b[0m                      \u001b[38;5;124mf\u001b[39m\u001b[38;5;124m\"\u001b[39m\u001b[38;5;124mhave shapes \u001b[39m\u001b[38;5;132;01m{\u001b[39;00mx\u001b[38;5;241m.\u001b[39mshape\u001b[38;5;132;01m}\u001b[39;00m\u001b[38;5;124m and \u001b[39m\u001b[38;5;132;01m{\u001b[39;00my\u001b[38;5;241m.\u001b[39mshape\u001b[38;5;132;01m}\u001b[39;00m\u001b[38;5;124m\"\u001b[39m)\n\u001b[0;32m    500\u001b[0m \u001b[38;5;28;01mif\u001b[39;00m x\u001b[38;5;241m.\u001b[39mndim \u001b[38;5;241m>\u001b[39m \u001b[38;5;241m2\u001b[39m \u001b[38;5;129;01mor\u001b[39;00m y\u001b[38;5;241m.\u001b[39mndim \u001b[38;5;241m>\u001b[39m \u001b[38;5;241m2\u001b[39m:\n\u001b[1;32m--> 501\u001b[0m     \u001b[38;5;28;01mraise\u001b[39;00m \u001b[38;5;167;01mValueError\u001b[39;00m(\u001b[38;5;124mf\u001b[39m\u001b[38;5;124m\"\u001b[39m\u001b[38;5;124mx and y can be no greater than 2D, but have \u001b[39m\u001b[38;5;124m\"\u001b[39m\n\u001b[0;32m    502\u001b[0m                      \u001b[38;5;124mf\u001b[39m\u001b[38;5;124m\"\u001b[39m\u001b[38;5;124mshapes \u001b[39m\u001b[38;5;132;01m{\u001b[39;00mx\u001b[38;5;241m.\u001b[39mshape\u001b[38;5;132;01m}\u001b[39;00m\u001b[38;5;124m and \u001b[39m\u001b[38;5;132;01m{\u001b[39;00my\u001b[38;5;241m.\u001b[39mshape\u001b[38;5;132;01m}\u001b[39;00m\u001b[38;5;124m\"\u001b[39m)\n\u001b[0;32m    503\u001b[0m \u001b[38;5;28;01mif\u001b[39;00m x\u001b[38;5;241m.\u001b[39mndim \u001b[38;5;241m==\u001b[39m \u001b[38;5;241m1\u001b[39m:\n\u001b[0;32m    504\u001b[0m     x \u001b[38;5;241m=\u001b[39m x[:, np\u001b[38;5;241m.\u001b[39mnewaxis]\n",
      "\u001b[1;31mValueError\u001b[0m: x and y can be no greater than 2D, but have shapes (192,) and (192, 100, 1)"
     ]
    },
    {
     "data": {
      "image/png": "[encoded data removed]",
      "text/plain": [
       "<Figure size 1440x360 with 1 Axes>"
      ]
     },
     "metadata": {},
     "output_type": "display_data"
    }
   ],
   "source": [
    "#Ploting the prediciton of precipitation\n",
    "fig=plt.figure(figsize=(20,5))\n",
    "plt.subplot(1,2,1)\n",
    "plt.plot(test_predicted,label='precipitation, predicted')\n",
    "plt.plot(y_test,label=\"precipitation\")\n",
    "plt.title('Prediction of Seattle weather')\n",
    "plt.legend()"
   ]
  },
  {
   "cell_type": "code",
   "execution_count": 117,
   "id": "a68b2701",
   "metadata": {},
   "outputs": [
    {
     "name": "stdout",
     "output_type": "stream",
     "text": [
      "Epoch 1/50\n"
     ]
    },
    {
     "ename": "InvalidArgumentError",
     "evalue": "Graph execution error:\n\nDetected at node 'gradient_tape/mean_squared_error/BroadcastGradientArgs' defined at (most recent call last):\n    File \"C:\\Users\\glooooooria\\anaconda3\\envs\\emi\\lib\\runpy.py\", line 197, in _run_module_as_main\n      return _run_code(code, main_globals, None,\n    File \"C:\\Users\\glooooooria\\anaconda3\\envs\\emi\\lib\\runpy.py\", line 87, in _run_code\n      exec(code, run_globals)\n    File \"C:\\Users\\glooooooria\\anaconda3\\envs\\emi\\lib\\site-packages\\ipykernel_launcher.py\", line 16, in <module>\n      app.launch_new_instance()\n    File \"C:\\Users\\glooooooria\\anaconda3\\envs\\emi\\lib\\site-packages\\traitlets\\config\\application.py\", line 846, in launch_instance\n      app.start()\n    File \"C:\\Users\\glooooooria\\anaconda3\\envs\\emi\\lib\\site-packages\\ipykernel\\kernelapp.py\", line 677, in start\n      self.io_loop.start()\n    File \"C:\\Users\\glooooooria\\anaconda3\\envs\\emi\\lib\\site-packages\\tornado\\platform\\asyncio.py\", line 199, in start\n      self.asyncio_loop.run_forever()\n    File \"C:\\Users\\glooooooria\\anaconda3\\envs\\emi\\lib\\asyncio\\base_events.py\", line 601, in run_forever\n      self._run_once()\n    File \"C:\\Users\\glooooooria\\anaconda3\\envs\\emi\\lib\\asyncio\\base_events.py\", line 1905, in _run_once\n      handle._run()\n    File \"C:\\Users\\glooooooria\\anaconda3\\envs\\emi\\lib\\asyncio\\events.py\", line 80, in _run\n      self._context.run(self._callback, *self._args)\n    File \"C:\\Users\\glooooooria\\anaconda3\\envs\\emi\\lib\\site-packages\\ipykernel\\kernelbase.py\", line 471, in dispatch_queue\n      await self.process_one()\n    File \"C:\\Users\\glooooooria\\anaconda3\\envs\\emi\\lib\\site-packages\\ipykernel\\kernelbase.py\", line 460, in process_one\n      await dispatch(*args)\n    File \"C:\\Users\\glooooooria\\anaconda3\\envs\\emi\\lib\\site-packages\\ipykernel\\kernelbase.py\", line 367, in dispatch_shell\n      await result\n    File \"C:\\Users\\glooooooria\\anaconda3\\envs\\emi\\lib\\site-packages\\ipykernel\\kernelbase.py\", line 662, in execute_request\n      reply_content = await reply_content\n    File \"C:\\Users\\glooooooria\\anaconda3\\envs\\emi\\lib\\site-packages\\ipykernel\\ipkernel.py\", line 360, in do_execute\n      res = shell.run_cell(code, store_history=store_history, silent=silent)\n    File \"C:\\Users\\glooooooria\\anaconda3\\envs\\emi\\lib\\site-packages\\ipykernel\\zmqshell.py\", line 532, in run_cell\n      return super().run_cell(*args, **kwargs)\n    File \"C:\\Users\\glooooooria\\anaconda3\\envs\\emi\\lib\\site-packages\\IPython\\core\\interactiveshell.py\", line 2863, in run_cell\n      result = self._run_cell(\n    File \"C:\\Users\\glooooooria\\anaconda3\\envs\\emi\\lib\\site-packages\\IPython\\core\\interactiveshell.py\", line 2909, in _run_cell\n      return runner(coro)\n    File \"C:\\Users\\glooooooria\\anaconda3\\envs\\emi\\lib\\site-packages\\IPython\\core\\async_helpers.py\", line 129, in _pseudo_sync_runner\n      coro.send(None)\n    File \"C:\\Users\\glooooooria\\anaconda3\\envs\\emi\\lib\\site-packages\\IPython\\core\\interactiveshell.py\", line 3106, in run_cell_async\n      has_raised = await self.run_ast_nodes(code_ast.body, cell_name,\n    File \"C:\\Users\\glooooooria\\anaconda3\\envs\\emi\\lib\\site-packages\\IPython\\core\\interactiveshell.py\", line 3309, in run_ast_nodes\n      if await self.run_code(code, result, async_=asy):\n    File \"C:\\Users\\glooooooria\\anaconda3\\envs\\emi\\lib\\site-packages\\IPython\\core\\interactiveshell.py\", line 3369, in run_code\n      exec(code_obj, self.user_global_ns, self.user_ns)\n    File \"C:\\Users\\glooooooria\\AppData\\Local\\Temp\\ipykernel_51676\\3450379968.py\", line 17, in <cell line: 17>\n      history = model.fit(X_train,y_train,batch_size=batch_size,validation_data=(X_test, y_test),epochs=epochs,  verbose = 1)\n    File \"C:\\Users\\glooooooria\\anaconda3\\envs\\emi\\lib\\site-packages\\keras\\utils\\traceback_utils.py\", line 64, in error_handler\n      return fn(*args, **kwargs)\n    File \"C:\\Users\\glooooooria\\anaconda3\\envs\\emi\\lib\\site-packages\\keras\\engine\\training.py\", line 1384, in fit\n      tmp_logs = self.train_function(iterator)\n    File \"C:\\Users\\glooooooria\\anaconda3\\envs\\emi\\lib\\site-packages\\keras\\engine\\training.py\", line 1021, in train_function\n      return step_function(self, iterator)\n    File \"C:\\Users\\glooooooria\\anaconda3\\envs\\emi\\lib\\site-packages\\keras\\engine\\training.py\", line 1010, in step_function\n      outputs = model.distribute_strategy.run(run_step, args=(data,))\n    File \"C:\\Users\\glooooooria\\anaconda3\\envs\\emi\\lib\\site-packages\\keras\\engine\\training.py\", line 1000, in run_step\n      outputs = model.train_step(data)\n    File \"C:\\Users\\glooooooria\\anaconda3\\envs\\emi\\lib\\site-packages\\keras\\engine\\training.py\", line 863, in train_step\n      self.optimizer.minimize(loss, self.trainable_variables, tape=tape)\n    File \"C:\\Users\\glooooooria\\anaconda3\\envs\\emi\\lib\\site-packages\\keras\\optimizer_v2\\optimizer_v2.py\", line 530, in minimize\n      grads_and_vars = self._compute_gradients(\n    File \"C:\\Users\\glooooooria\\anaconda3\\envs\\emi\\lib\\site-packages\\keras\\optimizer_v2\\optimizer_v2.py\", line 583, in _compute_gradients\n      grads_and_vars = self._get_gradients(tape, loss, var_list, grad_loss)\n    File \"C:\\Users\\glooooooria\\anaconda3\\envs\\emi\\lib\\site-packages\\keras\\optimizer_v2\\optimizer_v2.py\", line 464, in _get_gradients\n      grads = tape.gradient(loss, var_list, grad_loss)\nNode: 'gradient_tape/mean_squared_error/BroadcastGradientArgs'\nIncompatible shapes: [32,100,10] vs. [32,1]\n\t [[{{node gradient_tape/mean_squared_error/BroadcastGradientArgs}}]] [Op:__inference_train_function_92696]",
     "output_type": "error",
     "traceback": [
      "\u001b[1;31m---------------------------------------------------------------------------\u001b[0m",
      "\u001b[1;31mInvalidArgumentError\u001b[0m                      Traceback (most recent call last)",
      "Input \u001b[1;32mIn [117]\u001b[0m, in \u001b[0;36m<cell line: 17>\u001b[1;34m()\u001b[0m\n\u001b[0;32m     11\u001b[0m \u001b[38;5;66;03m#model.add(Dense(1))\u001b[39;00m\n\u001b[0;32m     13\u001b[0m model\u001b[38;5;241m.\u001b[39mcompile(loss\u001b[38;5;241m=\u001b[39m\u001b[38;5;124m'\u001b[39m\u001b[38;5;124mmean_squared_error\u001b[39m\u001b[38;5;124m'\u001b[39m, \n\u001b[0;32m     14\u001b[0m               optimizer\u001b[38;5;241m=\u001b[39m\u001b[38;5;124m'\u001b[39m\u001b[38;5;124madam\u001b[39m\u001b[38;5;124m'\u001b[39m,\n\u001b[0;32m     15\u001b[0m               metrics\u001b[38;5;241m=\u001b[39m[\u001b[38;5;124m'\u001b[39m\u001b[38;5;124mmean_absolute_error\u001b[39m\u001b[38;5;124m'\u001b[39m])\n\u001b[1;32m---> 17\u001b[0m history \u001b[38;5;241m=\u001b[39m \u001b[43mmodel\u001b[49m\u001b[38;5;241;43m.\u001b[39;49m\u001b[43mfit\u001b[49m\u001b[43m(\u001b[49m\u001b[43mX_train\u001b[49m\u001b[43m,\u001b[49m\u001b[43my_train\u001b[49m\u001b[43m,\u001b[49m\u001b[43mbatch_size\u001b[49m\u001b[38;5;241;43m=\u001b[39;49m\u001b[43mbatch_size\u001b[49m\u001b[43m,\u001b[49m\u001b[43mvalidation_data\u001b[49m\u001b[38;5;241;43m=\u001b[39;49m\u001b[43m(\u001b[49m\u001b[43mX_test\u001b[49m\u001b[43m,\u001b[49m\u001b[43m \u001b[49m\u001b[43my_test\u001b[49m\u001b[43m)\u001b[49m\u001b[43m,\u001b[49m\u001b[43mepochs\u001b[49m\u001b[38;5;241;43m=\u001b[39;49m\u001b[43mepochs\u001b[49m\u001b[43m,\u001b[49m\u001b[43m  \u001b[49m\u001b[43mverbose\u001b[49m\u001b[43m \u001b[49m\u001b[38;5;241;43m=\u001b[39;49m\u001b[43m \u001b[49m\u001b[38;5;241;43m1\u001b[39;49m\u001b[43m)\u001b[49m\n",
      "File \u001b[1;32m~\\anaconda3\\envs\\emi\\lib\\site-packages\\keras\\utils\\traceback_utils.py:67\u001b[0m, in \u001b[0;36mfilter_traceback.<locals>.error_handler\u001b[1;34m(*args, **kwargs)\u001b[0m\n\u001b[0;32m     65\u001b[0m \u001b[38;5;28;01mexcept\u001b[39;00m \u001b[38;5;167;01mException\u001b[39;00m \u001b[38;5;28;01mas\u001b[39;00m e:  \u001b[38;5;66;03m# pylint: disable=broad-except\u001b[39;00m\n\u001b[0;32m     66\u001b[0m   filtered_tb \u001b[38;5;241m=\u001b[39m _process_traceback_frames(e\u001b[38;5;241m.\u001b[39m__traceback__)\n\u001b[1;32m---> 67\u001b[0m   \u001b[38;5;28;01mraise\u001b[39;00m e\u001b[38;5;241m.\u001b[39mwith_traceback(filtered_tb) \u001b[38;5;28;01mfrom\u001b[39;00m \u001b[38;5;28mNone\u001b[39m\n\u001b[0;32m     68\u001b[0m \u001b[38;5;28;01mfinally\u001b[39;00m:\n\u001b[0;32m     69\u001b[0m   \u001b[38;5;28;01mdel\u001b[39;00m filtered_tb\n",
      "File \u001b[1;32m~\\anaconda3\\envs\\emi\\lib\\site-packages\\tensorflow\\python\\eager\\execute.py:54\u001b[0m, in \u001b[0;36mquick_execute\u001b[1;34m(op_name, num_outputs, inputs, attrs, ctx, name)\u001b[0m\n\u001b[0;32m     52\u001b[0m \u001b[38;5;28;01mtry\u001b[39;00m:\n\u001b[0;32m     53\u001b[0m   ctx\u001b[38;5;241m.\u001b[39mensure_initialized()\n\u001b[1;32m---> 54\u001b[0m   tensors \u001b[38;5;241m=\u001b[39m pywrap_tfe\u001b[38;5;241m.\u001b[39mTFE_Py_Execute(ctx\u001b[38;5;241m.\u001b[39m_handle, device_name, op_name,\n\u001b[0;32m     55\u001b[0m                                       inputs, attrs, num_outputs)\n\u001b[0;32m     56\u001b[0m \u001b[38;5;28;01mexcept\u001b[39;00m core\u001b[38;5;241m.\u001b[39m_NotOkStatusException \u001b[38;5;28;01mas\u001b[39;00m e:\n\u001b[0;32m     57\u001b[0m   \u001b[38;5;28;01mif\u001b[39;00m name \u001b[38;5;129;01mis\u001b[39;00m \u001b[38;5;129;01mnot\u001b[39;00m \u001b[38;5;28;01mNone\u001b[39;00m:\n",
      "\u001b[1;31mInvalidArgumentError\u001b[0m: Graph execution error:\n\nDetected at node 'gradient_tape/mean_squared_error/BroadcastGradientArgs' defined at (most recent call last):\n    File \"C:\\Users\\glooooooria\\anaconda3\\envs\\emi\\lib\\runpy.py\", line 197, in _run_module_as_main\n      return _run_code(code, main_globals, None,\n    File \"C:\\Users\\glooooooria\\anaconda3\\envs\\emi\\lib\\runpy.py\", line 87, in _run_code\n      exec(code, run_globals)\n    File \"C:\\Users\\glooooooria\\anaconda3\\envs\\emi\\lib\\site-packages\\ipykernel_launcher.py\", line 16, in <module>\n      app.launch_new_instance()\n    File \"C:\\Users\\glooooooria\\anaconda3\\envs\\emi\\lib\\site-packages\\traitlets\\config\\application.py\", line 846, in launch_instance\n      app.start()\n    File \"C:\\Users\\glooooooria\\anaconda3\\envs\\emi\\lib\\site-packages\\ipykernel\\kernelapp.py\", line 677, in start\n      self.io_loop.start()\n    File \"C:\\Users\\glooooooria\\anaconda3\\envs\\emi\\lib\\site-packages\\tornado\\platform\\asyncio.py\", line 199, in start\n      self.asyncio_loop.run_forever()\n    File \"C:\\Users\\glooooooria\\anaconda3\\envs\\emi\\lib\\asyncio\\base_events.py\", line 601, in run_forever\n      self._run_once()\n    File \"C:\\Users\\glooooooria\\anaconda3\\envs\\emi\\lib\\asyncio\\base_events.py\", line 1905, in _run_once\n      handle._run()\n    File \"C:\\Users\\glooooooria\\anaconda3\\envs\\emi\\lib\\asyncio\\events.py\", line 80, in _run\n      self._context.run(self._callback, *self._args)\n    File \"C:\\Users\\glooooooria\\anaconda3\\envs\\emi\\lib\\site-packages\\ipykernel\\kernelbase.py\", line 471, in dispatch_queue\n      await self.process_one()\n    File \"C:\\Users\\glooooooria\\anaconda3\\envs\\emi\\lib\\site-packages\\ipykernel\\kernelbase.py\", line 460, in process_one\n      await dispatch(*args)\n    File \"C:\\Users\\glooooooria\\anaconda3\\envs\\emi\\lib\\site-packages\\ipykernel\\kernelbase.py\", line 367, in dispatch_shell\n      await result\n    File \"C:\\Users\\glooooooria\\anaconda3\\envs\\emi\\lib\\site-packages\\ipykernel\\kernelbase.py\", line 662, in execute_request\n      reply_content = await reply_content\n    File \"C:\\Users\\glooooooria\\anaconda3\\envs\\emi\\lib\\site-packages\\ipykernel\\ipkernel.py\", line 360, in do_execute\n      res = shell.run_cell(code, store_history=store_history, silent=silent)\n    File \"C:\\Users\\glooooooria\\anaconda3\\envs\\emi\\lib\\site-packages\\ipykernel\\zmqshell.py\", line 532, in run_cell\n      return super().run_cell(*args, **kwargs)\n    File \"C:\\Users\\glooooooria\\anaconda3\\envs\\emi\\lib\\site-packages\\IPython\\core\\interactiveshell.py\", line 2863, in run_cell\n      result = self._run_cell(\n    File \"C:\\Users\\glooooooria\\anaconda3\\envs\\emi\\lib\\site-packages\\IPython\\core\\interactiveshell.py\", line 2909, in _run_cell\n      return runner(coro)\n    File \"C:\\Users\\glooooooria\\anaconda3\\envs\\emi\\lib\\site-packages\\IPython\\core\\async_helpers.py\", line 129, in _pseudo_sync_runner\n      coro.send(None)\n    File \"C:\\Users\\glooooooria\\anaconda3\\envs\\emi\\lib\\site-packages\\IPython\\core\\interactiveshell.py\", line 3106, in run_cell_async\n      has_raised = await self.run_ast_nodes(code_ast.body, cell_name,\n    File \"C:\\Users\\glooooooria\\anaconda3\\envs\\emi\\lib\\site-packages\\IPython\\core\\interactiveshell.py\", line 3309, in run_ast_nodes\n      if await self.run_code(code, result, async_=asy):\n    File \"C:\\Users\\glooooooria\\anaconda3\\envs\\emi\\lib\\site-packages\\IPython\\core\\interactiveshell.py\", line 3369, in run_code\n      exec(code_obj, self.user_global_ns, self.user_ns)\n    File \"C:\\Users\\glooooooria\\AppData\\Local\\Temp\\ipykernel_51676\\3450379968.py\", line 17, in <cell line: 17>\n      history = model.fit(X_train,y_train,batch_size=batch_size,validation_data=(X_test, y_test),epochs=epochs,  verbose = 1)\n    File \"C:\\Users\\glooooooria\\anaconda3\\envs\\emi\\lib\\site-packages\\keras\\utils\\traceback_utils.py\", line 64, in error_handler\n      return fn(*args, **kwargs)\n    File \"C:\\Users\\glooooooria\\anaconda3\\envs\\emi\\lib\\site-packages\\keras\\engine\\training.py\", line 1384, in fit\n      tmp_logs = self.train_function(iterator)\n    File \"C:\\Users\\glooooooria\\anaconda3\\envs\\emi\\lib\\site-packages\\keras\\engine\\training.py\", line 1021, in train_function\n      return step_function(self, iterator)\n    File \"C:\\Users\\glooooooria\\anaconda3\\envs\\emi\\lib\\site-packages\\keras\\engine\\training.py\", line 1010, in step_function\n      outputs = model.distribute_strategy.run(run_step, args=(data,))\n    File \"C:\\Users\\glooooooria\\anaconda3\\envs\\emi\\lib\\site-packages\\keras\\engine\\training.py\", line 1000, in run_step\n      outputs = model.train_step(data)\n    File \"C:\\Users\\glooooooria\\anaconda3\\envs\\emi\\lib\\site-packages\\keras\\engine\\training.py\", line 863, in train_step\n      self.optimizer.minimize(loss, self.trainable_variables, tape=tape)\n    File \"C:\\Users\\glooooooria\\anaconda3\\envs\\emi\\lib\\site-packages\\keras\\optimizer_v2\\optimizer_v2.py\", line 530, in minimize\n      grads_and_vars = self._compute_gradients(\n    File \"C:\\Users\\glooooooria\\anaconda3\\envs\\emi\\lib\\site-packages\\keras\\optimizer_v2\\optimizer_v2.py\", line 583, in _compute_gradients\n      grads_and_vars = self._get_gradients(tape, loss, var_list, grad_loss)\n    File \"C:\\Users\\glooooooria\\anaconda3\\envs\\emi\\lib\\site-packages\\keras\\optimizer_v2\\optimizer_v2.py\", line 464, in _get_gradients\n      grads = tape.gradient(loss, var_list, grad_loss)\nNode: 'gradient_tape/mean_squared_error/BroadcastGradientArgs'\nIncompatible shapes: [32,100,10] vs. [32,1]\n\t [[{{node gradient_tape/mean_squared_error/BroadcastGradientArgs}}]] [Op:__inference_train_function_92696]"
     ]
    }
   ],
   "source": [
    "epochs = 50\n",
    "\n",
    "batch_size = 32\n",
    "\n",
    "n_hidden = 64\n",
    "\n",
    "model = Sequential()\n",
    "model.add(LSTM(n_hidden, return_sequences=True, input_shape=(timesteps, input_dim))) #an LSTM layer\n",
    "model.add(Dropout(0.2)) \n",
    "model.add(Dense(10, activation='sigmoid'))\n",
    "#model.add(Dense(1))\n",
    "\n",
    "model.compile(loss='mean_squared_error', \n",
    "              optimizer='adam',\n",
    "              metrics=['mean_absolute_error'])\n",
    "\n",
    "history = model.fit(X_train,y_train,batch_size=batch_size,validation_data=(X_test, y_test),epochs=epochs,  verbose = 1)\n"
   ]
  },
  {
   "cell_type": "code",
   "execution_count": 118,
   "id": "a4f81a0a",
   "metadata": {
    "scrolled": true
   },
   "outputs": [
    {
     "name": "stdout",
     "output_type": "stream",
     "text": [
      "Epoch 1/50\n",
      "34/34 [==============================] - 2s 28ms/step - loss: 0.0129 - mean_absolute_error: 0.0676 - val_loss: 0.0241 - val_mean_absolute_error: 0.0972\n",
      "Epoch 2/50\n",
      "34/34 [==============================] - 1s 21ms/step - loss: 0.0129 - mean_absolute_error: 0.0725 - val_loss: 0.0244 - val_mean_absolute_error: 0.0862\n",
      "Epoch 3/50\n",
      "34/34 [==============================] - 1s 21ms/step - loss: 0.0128 - mean_absolute_error: 0.0716 - val_loss: 0.0244 - val_mean_absolute_error: 0.0868\n",
      "Epoch 4/50\n",
      "34/34 [==============================] - 1s 21ms/step - loss: 0.0128 - mean_absolute_error: 0.0687 - val_loss: 0.0240 - val_mean_absolute_error: 0.0955\n",
      "Epoch 5/50\n",
      "34/34 [==============================] - 1s 22ms/step - loss: 0.0128 - mean_absolute_error: 0.0711 - val_loss: 0.0245 - val_mean_absolute_error: 0.0859\n",
      "Epoch 6/50\n",
      "34/34 [==============================] - 1s 24ms/step - loss: 0.0128 - mean_absolute_error: 0.0694 - val_loss: 0.0241 - val_mean_absolute_error: 0.0924\n",
      "Epoch 7/50\n",
      "34/34 [==============================] - 1s 22ms/step - loss: 0.0128 - mean_absolute_error: 0.0717 - val_loss: 0.0246 - val_mean_absolute_error: 0.0835\n",
      "Epoch 8/50\n",
      "34/34 [==============================] - 1s 21ms/step - loss: 0.0127 - mean_absolute_error: 0.0692 - val_loss: 0.0243 - val_mean_absolute_error: 0.0892\n",
      "Epoch 9/50\n",
      "34/34 [==============================] - 1s 21ms/step - loss: 0.0127 - mean_absolute_error: 0.0708 - val_loss: 0.0244 - val_mean_absolute_error: 0.0864\n",
      "Epoch 10/50\n",
      "34/34 [==============================] - 1s 21ms/step - loss: 0.0127 - mean_absolute_error: 0.0699 - val_loss: 0.0244 - val_mean_absolute_error: 0.0864\n",
      "Epoch 11/50\n",
      "34/34 [==============================] - 1s 22ms/step - loss: 0.0128 - mean_absolute_error: 0.0736 - val_loss: 0.0246 - val_mean_absolute_error: 0.0843\n",
      "Epoch 12/50\n",
      "34/34 [==============================] - 1s 21ms/step - loss: 0.0127 - mean_absolute_error: 0.0667 - val_loss: 0.0241 - val_mean_absolute_error: 0.0919\n",
      "Epoch 13/50\n",
      "34/34 [==============================] - 1s 23ms/step - loss: 0.0127 - mean_absolute_error: 0.0732 - val_loss: 0.0249 - val_mean_absolute_error: 0.0810\n",
      "Epoch 14/50\n",
      "34/34 [==============================] - 1s 21ms/step - loss: 0.0127 - mean_absolute_error: 0.0685 - val_loss: 0.0242 - val_mean_absolute_error: 0.0903\n",
      "Epoch 15/50\n",
      "34/34 [==============================] - 1s 21ms/step - loss: 0.0127 - mean_absolute_error: 0.0723 - val_loss: 0.0247 - val_mean_absolute_error: 0.0838\n",
      "Epoch 16/50\n",
      "34/34 [==============================] - 1s 22ms/step - loss: 0.0127 - mean_absolute_error: 0.0712 - val_loss: 0.0244 - val_mean_absolute_error: 0.0871\n",
      "Epoch 17/50\n",
      "34/34 [==============================] - 1s 22ms/step - loss: 0.0127 - mean_absolute_error: 0.0687 - val_loss: 0.0243 - val_mean_absolute_error: 0.0872\n",
      "Epoch 18/50\n",
      "34/34 [==============================] - 1s 22ms/step - loss: 0.0127 - mean_absolute_error: 0.0719 - val_loss: 0.0246 - val_mean_absolute_error: 0.0851\n",
      "Epoch 19/50\n",
      "34/34 [==============================] - 1s 22ms/step - loss: 0.0127 - mean_absolute_error: 0.0697 - val_loss: 0.0243 - val_mean_absolute_error: 0.0876\n",
      "Epoch 20/50\n",
      "34/34 [==============================] - 1s 22ms/step - loss: 0.0127 - mean_absolute_error: 0.0721 - val_loss: 0.0246 - val_mean_absolute_error: 0.0845\n",
      "Epoch 21/50\n",
      "34/34 [==============================] - 1s 21ms/step - loss: 0.0127 - mean_absolute_error: 0.0712 - val_loss: 0.0247 - val_mean_absolute_error: 0.0838\n",
      "Epoch 22/50\n",
      "34/34 [==============================] - 1s 21ms/step - loss: 0.0128 - mean_absolute_error: 0.0712 - val_loss: 0.0248 - val_mean_absolute_error: 0.0826\n",
      "Epoch 23/50\n",
      "34/34 [==============================] - 1s 21ms/step - loss: 0.0127 - mean_absolute_error: 0.0675 - val_loss: 0.0242 - val_mean_absolute_error: 0.0900\n",
      "Epoch 24/50\n",
      "34/34 [==============================] - 1s 23ms/step - loss: 0.0127 - mean_absolute_error: 0.0726 - val_loss: 0.0244 - val_mean_absolute_error: 0.0867\n",
      "Epoch 25/50\n",
      "34/34 [==============================] - 1s 21ms/step - loss: 0.0127 - mean_absolute_error: 0.0697 - val_loss: 0.0246 - val_mean_absolute_error: 0.0842\n",
      "Epoch 26/50\n",
      "34/34 [==============================] - 1s 21ms/step - loss: 0.0128 - mean_absolute_error: 0.0713 - val_loss: 0.0247 - val_mean_absolute_error: 0.0831\n",
      "Epoch 27/50\n",
      "34/34 [==============================] - 1s 21ms/step - loss: 0.0127 - mean_absolute_error: 0.0697 - val_loss: 0.0244 - val_mean_absolute_error: 0.0876\n",
      "Epoch 28/50\n",
      "34/34 [==============================] - 1s 21ms/step - loss: 0.0127 - mean_absolute_error: 0.0688 - val_loss: 0.0242 - val_mean_absolute_error: 0.0896\n",
      "Epoch 29/50\n",
      "34/34 [==============================] - 1s 22ms/step - loss: 0.0127 - mean_absolute_error: 0.0725 - val_loss: 0.0246 - val_mean_absolute_error: 0.0850\n",
      "Epoch 30/50\n",
      "34/34 [==============================] - 1s 24ms/step - loss: 0.0127 - mean_absolute_error: 0.0704 - val_loss: 0.0243 - val_mean_absolute_error: 0.0892\n",
      "Epoch 31/50\n",
      "34/34 [==============================] - 1s 22ms/step - loss: 0.0127 - mean_absolute_error: 0.0696 - val_loss: 0.0243 - val_mean_absolute_error: 0.0885\n",
      "Epoch 32/50\n",
      "34/34 [==============================] - 1s 22ms/step - loss: 0.0127 - mean_absolute_error: 0.0724 - val_loss: 0.0244 - val_mean_absolute_error: 0.0864\n",
      "Epoch 33/50\n",
      "34/34 [==============================] - 1s 21ms/step - loss: 0.0127 - mean_absolute_error: 0.0695 - val_loss: 0.0244 - val_mean_absolute_error: 0.0874\n",
      "Epoch 34/50\n",
      "34/34 [==============================] - 1s 22ms/step - loss: 0.0127 - mean_absolute_error: 0.0718 - val_loss: 0.0245 - val_mean_absolute_error: 0.0852\n",
      "Epoch 35/50\n",
      "34/34 [==============================] - 1s 21ms/step - loss: 0.0127 - mean_absolute_error: 0.0703 - val_loss: 0.0245 - val_mean_absolute_error: 0.0863\n",
      "Epoch 36/50\n",
      "34/34 [==============================] - 1s 21ms/step - loss: 0.0127 - mean_absolute_error: 0.0688 - val_loss: 0.0243 - val_mean_absolute_error: 0.0885\n",
      "Epoch 37/50\n",
      "34/34 [==============================] - 1s 21ms/step - loss: 0.0127 - mean_absolute_error: 0.0706 - val_loss: 0.0244 - val_mean_absolute_error: 0.0865\n",
      "Epoch 38/50\n",
      "34/34 [==============================] - 1s 21ms/step - loss: 0.0127 - mean_absolute_error: 0.0703 - val_loss: 0.0243 - val_mean_absolute_error: 0.0882\n",
      "Epoch 39/50\n",
      "34/34 [==============================] - 1s 23ms/step - loss: 0.0127 - mean_absolute_error: 0.0709 - val_loss: 0.0244 - val_mean_absolute_error: 0.0868\n",
      "Epoch 40/50\n",
      "34/34 [==============================] - 1s 22ms/step - loss: 0.0127 - mean_absolute_error: 0.0715 - val_loss: 0.0244 - val_mean_absolute_error: 0.0866\n",
      "Epoch 41/50\n",
      "34/34 [==============================] - 1s 22ms/step - loss: 0.0127 - mean_absolute_error: 0.0702 - val_loss: 0.0243 - val_mean_absolute_error: 0.0889\n",
      "Epoch 42/50\n",
      "34/34 [==============================] - 1s 24ms/step - loss: 0.0127 - mean_absolute_error: 0.0703 - val_loss: 0.0246 - val_mean_absolute_error: 0.0848\n",
      "Epoch 43/50\n",
      "34/34 [==============================] - 1s 22ms/step - loss: 0.0127 - mean_absolute_error: 0.0710 - val_loss: 0.0243 - val_mean_absolute_error: 0.0896\n",
      "Epoch 44/50\n",
      "34/34 [==============================] - 1s 22ms/step - loss: 0.0127 - mean_absolute_error: 0.0726 - val_loss: 0.0247 - val_mean_absolute_error: 0.0835\n",
      "Epoch 45/50\n",
      "34/34 [==============================] - 1s 23ms/step - loss: 0.0127 - mean_absolute_error: 0.0678 - val_loss: 0.0244 - val_mean_absolute_error: 0.0875\n",
      "Epoch 46/50\n",
      "34/34 [==============================] - 1s 21ms/step - loss: 0.0127 - mean_absolute_error: 0.0718 - val_loss: 0.0244 - val_mean_absolute_error: 0.0870\n",
      "Epoch 47/50\n",
      "34/34 [==============================] - 1s 23ms/step - loss: 0.0127 - mean_absolute_error: 0.0702 - val_loss: 0.0243 - val_mean_absolute_error: 0.0890\n",
      "Epoch 48/50\n",
      "34/34 [==============================] - 1s 22ms/step - loss: 0.0127 - mean_absolute_error: 0.0708 - val_loss: 0.0244 - val_mean_absolute_error: 0.0866\n",
      "Epoch 49/50\n",
      "34/34 [==============================] - 1s 22ms/step - loss: 0.0127 - mean_absolute_error: 0.0703 - val_loss: 0.0244 - val_mean_absolute_error: 0.0869\n",
      "Epoch 50/50\n",
      "34/34 [==============================] - 1s 24ms/step - loss: 0.0127 - mean_absolute_error: 0.0720 - val_loss: 0.0244 - val_mean_absolute_error: 0.0873\n"
     ]
    }
   ],
   "source": [
    "epochs = 50\n",
    "\n",
    "#batch_size = 32\n",
    "\n",
    "n_hidden = 64\n",
    "\n",
    "model = Sequential()\n",
    "model.add(LSTM(n_hidden, return_sequences=True, input_shape=(timesteps, input_dim))) #an LSTM layer\n",
    "model.add(Dropout(0.1)) \n",
    "#model.add(Dense(10, activation='sigmoid'))\n",
    "model.add(Dense(1))\n",
    "\n",
    "model.compile(loss='mean_squared_error', \n",
    "              optimizer='adam',\n",
    "              metrics=['mean_absolute_error'])\n",
    "\n",
    "history = model.fit(X_train,y_train, epochs=epochs, validation_data=(X_test, y_test), verbose = 1)"
   ]
  },
  {
   "cell_type": "code",
   "execution_count": 119,
   "id": "57187d0b",
   "metadata": {},
   "outputs": [
    {
     "name": "stdout",
     "output_type": "stream",
     "text": [
      "Epoch 1/50\n"
     ]
    },
    {
     "name": "stderr",
     "output_type": "stream",
     "text": [
      "C:\\Users\\glooooooria\\anaconda3\\envs\\emi\\lib\\site-packages\\keras\\optimizer_v2\\adam.py:105: UserWarning: The `lr` argument is deprecated, use `learning_rate` instead.\n",
      "  super(Adam, self).__init__(name, **kwargs)\n"
     ]
    },
    {
     "name": "stdout",
     "output_type": "stream",
     "text": [
      "34/34 [==============================] - 2s 28ms/step - loss: 4.7135 - sparse_categorical_accuracy: 0.5646 - val_loss: 4.6052 - val_sparse_categorical_accuracy: 0.5990\n",
      "Epoch 2/50\n",
      "34/34 [==============================] - 1s 21ms/step - loss: 4.6052 - sparse_categorical_accuracy: 0.5824 - val_loss: 4.6052 - val_sparse_categorical_accuracy: 0.5990\n",
      "Epoch 3/50\n",
      "34/34 [==============================] - 1s 23ms/step - loss: 4.6052 - sparse_categorical_accuracy: 0.5824 - val_loss: 4.6052 - val_sparse_categorical_accuracy: 0.5990\n",
      "Epoch 4/50\n",
      "34/34 [==============================] - 1s 21ms/step - loss: 4.6052 - sparse_categorical_accuracy: 0.5824 - val_loss: 4.6052 - val_sparse_categorical_accuracy: 0.5990\n",
      "Epoch 5/50\n",
      "34/34 [==============================] - 1s 21ms/step - loss: 4.6052 - sparse_categorical_accuracy: 0.5824 - val_loss: 4.6052 - val_sparse_categorical_accuracy: 0.5990\n",
      "Epoch 6/50\n",
      "34/34 [==============================] - 1s 22ms/step - loss: 4.6052 - sparse_categorical_accuracy: 0.5824 - val_loss: 4.6052 - val_sparse_categorical_accuracy: 0.5990\n",
      "Epoch 7/50\n",
      "34/34 [==============================] - 1s 24ms/step - loss: 4.6052 - sparse_categorical_accuracy: 0.5824 - val_loss: 4.6052 - val_sparse_categorical_accuracy: 0.5990\n",
      "Epoch 8/50\n",
      "34/34 [==============================] - 1s 21ms/step - loss: 4.6052 - sparse_categorical_accuracy: 0.5824 - val_loss: 4.6052 - val_sparse_categorical_accuracy: 0.5990\n",
      "Epoch 9/50\n",
      "34/34 [==============================] - 1s 21ms/step - loss: 4.6052 - sparse_categorical_accuracy: 0.5824 - val_loss: 4.6052 - val_sparse_categorical_accuracy: 0.5990\n",
      "Epoch 10/50\n",
      "34/34 [==============================] - 1s 21ms/step - loss: 4.6052 - sparse_categorical_accuracy: 0.5824 - val_loss: 4.6052 - val_sparse_categorical_accuracy: 0.5990\n",
      "Epoch 11/50\n",
      "34/34 [==============================] - 1s 21ms/step - loss: 4.6052 - sparse_categorical_accuracy: 0.5824 - val_loss: 4.6052 - val_sparse_categorical_accuracy: 0.5990\n",
      "Epoch 12/50\n",
      "34/34 [==============================] - 1s 22ms/step - loss: 4.6052 - sparse_categorical_accuracy: 0.5824 - val_loss: 4.6052 - val_sparse_categorical_accuracy: 0.5990\n",
      "Epoch 13/50\n",
      "34/34 [==============================] - 1s 24ms/step - loss: 4.6052 - sparse_categorical_accuracy: 0.5824 - val_loss: 4.6052 - val_sparse_categorical_accuracy: 0.5990\n",
      "Epoch 14/50\n",
      "34/34 [==============================] - 1s 21ms/step - loss: 4.6052 - sparse_categorical_accuracy: 0.5824 - val_loss: 4.6052 - val_sparse_categorical_accuracy: 0.5990\n",
      "Epoch 15/50\n",
      "34/34 [==============================] - 1s 21ms/step - loss: 4.6052 - sparse_categorical_accuracy: 0.5824 - val_loss: 4.6052 - val_sparse_categorical_accuracy: 0.5990\n",
      "Epoch 16/50\n",
      "34/34 [==============================] - 1s 24ms/step - loss: 4.6052 - sparse_categorical_accuracy: 0.5824 - val_loss: 4.6052 - val_sparse_categorical_accuracy: 0.5990\n",
      "Epoch 17/50\n",
      "34/34 [==============================] - 1s 21ms/step - loss: 4.6052 - sparse_categorical_accuracy: 0.5824 - val_loss: 4.6052 - val_sparse_categorical_accuracy: 0.5990\n",
      "Epoch 18/50\n",
      "34/34 [==============================] - 1s 21ms/step - loss: 4.6052 - sparse_categorical_accuracy: 0.5824 - val_loss: 4.6052 - val_sparse_categorical_accuracy: 0.5990\n",
      "Epoch 19/50\n",
      "34/34 [==============================] - 1s 21ms/step - loss: 4.6052 - sparse_categorical_accuracy: 0.5824 - val_loss: 4.6052 - val_sparse_categorical_accuracy: 0.5990\n",
      "Epoch 20/50\n",
      "34/34 [==============================] - 1s 21ms/step - loss: 4.6052 - sparse_categorical_accuracy: 0.5824 - val_loss: 4.6052 - val_sparse_categorical_accuracy: 0.5990\n",
      "Epoch 21/50\n",
      "34/34 [==============================] - 1s 22ms/step - loss: 4.6052 - sparse_categorical_accuracy: 0.5824 - val_loss: 4.6052 - val_sparse_categorical_accuracy: 0.5990\n",
      "Epoch 22/50\n",
      "34/34 [==============================] - 1s 21ms/step - loss: 4.6052 - sparse_categorical_accuracy: 0.5824 - val_loss: 4.6052 - val_sparse_categorical_accuracy: 0.5990\n",
      "Epoch 23/50\n",
      "34/34 [==============================] - 1s 24ms/step - loss: 4.6052 - sparse_categorical_accuracy: 0.5824 - val_loss: 4.6052 - val_sparse_categorical_accuracy: 0.5990\n",
      "Epoch 24/50\n",
      "34/34 [==============================] - 1s 24ms/step - loss: 4.6052 - sparse_categorical_accuracy: 0.5824 - val_loss: 4.6052 - val_sparse_categorical_accuracy: 0.5990\n",
      "Epoch 25/50\n",
      "34/34 [==============================] - 1s 26ms/step - loss: 4.6052 - sparse_categorical_accuracy: 0.5824 - val_loss: 4.6052 - val_sparse_categorical_accuracy: 0.5990\n",
      "Epoch 26/50\n",
      "34/34 [==============================] - 1s 25ms/step - loss: 4.6052 - sparse_categorical_accuracy: 0.5824 - val_loss: 4.6052 - val_sparse_categorical_accuracy: 0.5990\n",
      "Epoch 27/50\n",
      "34/34 [==============================] - 1s 24ms/step - loss: 4.6052 - sparse_categorical_accuracy: 0.5824 - val_loss: 4.6052 - val_sparse_categorical_accuracy: 0.5990\n",
      "Epoch 28/50\n",
      "34/34 [==============================] - 1s 24ms/step - loss: 4.6052 - sparse_categorical_accuracy: 0.5824 - val_loss: 4.6052 - val_sparse_categorical_accuracy: 0.5990\n",
      "Epoch 29/50\n",
      "34/34 [==============================] - 1s 24ms/step - loss: 4.6052 - sparse_categorical_accuracy: 0.5824 - val_loss: 4.6052 - val_sparse_categorical_accuracy: 0.5990\n",
      "Epoch 30/50\n",
      "34/34 [==============================] - 1s 24ms/step - loss: 4.6052 - sparse_categorical_accuracy: 0.5824 - val_loss: 4.6052 - val_sparse_categorical_accuracy: 0.5990\n",
      "Epoch 31/50\n",
      "34/34 [==============================] - 1s 23ms/step - loss: 4.6052 - sparse_categorical_accuracy: 0.5824 - val_loss: 4.6052 - val_sparse_categorical_accuracy: 0.5990\n",
      "Epoch 32/50\n",
      "34/34 [==============================] - 1s 22ms/step - loss: 4.6052 - sparse_categorical_accuracy: 0.5824 - val_loss: 4.6052 - val_sparse_categorical_accuracy: 0.5990\n",
      "Epoch 33/50\n",
      "34/34 [==============================] - 1s 22ms/step - loss: 4.6052 - sparse_categorical_accuracy: 0.5824 - val_loss: 4.6052 - val_sparse_categorical_accuracy: 0.5990\n",
      "Epoch 34/50\n",
      "34/34 [==============================] - 1s 22ms/step - loss: 4.6052 - sparse_categorical_accuracy: 0.5824 - val_loss: 4.6052 - val_sparse_categorical_accuracy: 0.5990\n",
      "Epoch 35/50\n",
      "34/34 [==============================] - 1s 22ms/step - loss: 4.6052 - sparse_categorical_accuracy: 0.5824 - val_loss: 4.6052 - val_sparse_categorical_accuracy: 0.5990\n",
      "Epoch 36/50\n",
      "34/34 [==============================] - 1s 22ms/step - loss: 4.6052 - sparse_categorical_accuracy: 0.5824 - val_loss: 4.6052 - val_sparse_categorical_accuracy: 0.5990\n",
      "Epoch 37/50\n",
      "34/34 [==============================] - 1s 25ms/step - loss: 4.6052 - sparse_categorical_accuracy: 0.5824 - val_loss: 4.6052 - val_sparse_categorical_accuracy: 0.5990\n",
      "Epoch 38/50\n",
      "34/34 [==============================] - 1s 24ms/step - loss: 4.6052 - sparse_categorical_accuracy: 0.5824 - val_loss: 4.6052 - val_sparse_categorical_accuracy: 0.5990\n",
      "Epoch 39/50\n",
      "34/34 [==============================] - 1s 23ms/step - loss: 4.6052 - sparse_categorical_accuracy: 0.5824 - val_loss: 4.6052 - val_sparse_categorical_accuracy: 0.5990\n",
      "Epoch 40/50\n",
      "34/34 [==============================] - 1s 22ms/step - loss: 4.6052 - sparse_categorical_accuracy: 0.5824 - val_loss: 4.6052 - val_sparse_categorical_accuracy: 0.5990\n",
      "Epoch 41/50\n",
      "34/34 [==============================] - 1s 22ms/step - loss: 4.6052 - sparse_categorical_accuracy: 0.5824 - val_loss: 4.6052 - val_sparse_categorical_accuracy: 0.5990\n",
      "Epoch 42/50\n",
      "34/34 [==============================] - 1s 22ms/step - loss: 4.6052 - sparse_categorical_accuracy: 0.5824 - val_loss: 4.6052 - val_sparse_categorical_accuracy: 0.5990\n",
      "Epoch 43/50\n",
      "34/34 [==============================] - 1s 22ms/step - loss: 4.6052 - sparse_categorical_accuracy: 0.5824 - val_loss: 4.6052 - val_sparse_categorical_accuracy: 0.5990\n",
      "Epoch 44/50\n",
      "34/34 [==============================] - 1s 22ms/step - loss: 4.6052 - sparse_categorical_accuracy: 0.5824 - val_loss: 4.6052 - val_sparse_categorical_accuracy: 0.5990\n",
      "Epoch 45/50\n",
      "34/34 [==============================] - 1s 23ms/step - loss: 4.6052 - sparse_categorical_accuracy: 0.5824 - val_loss: 4.6052 - val_sparse_categorical_accuracy: 0.5990\n",
      "Epoch 46/50\n"
     ]
    },
    {
     "name": "stdout",
     "output_type": "stream",
     "text": [
      "34/34 [==============================] - 1s 23ms/step - loss: 4.6052 - sparse_categorical_accuracy: 0.5824 - val_loss: 4.6052 - val_sparse_categorical_accuracy: 0.5990\n",
      "Epoch 47/50\n",
      "34/34 [==============================] - 1s 23ms/step - loss: 4.6052 - sparse_categorical_accuracy: 0.5824 - val_loss: 4.6052 - val_sparse_categorical_accuracy: 0.5990\n",
      "Epoch 48/50\n",
      "34/34 [==============================] - 1s 23ms/step - loss: 4.6052 - sparse_categorical_accuracy: 0.5824 - val_loss: 4.6052 - val_sparse_categorical_accuracy: 0.5990\n",
      "Epoch 49/50\n",
      "34/34 [==============================] - 1s 23ms/step - loss: 4.6052 - sparse_categorical_accuracy: 0.5824 - val_loss: 4.6052 - val_sparse_categorical_accuracy: 0.5990\n",
      "Epoch 50/50\n",
      "34/34 [==============================] - 1s 21ms/step - loss: 4.6052 - sparse_categorical_accuracy: 0.5824 - val_loss: 4.6052 - val_sparse_categorical_accuracy: 0.5990\n"
     ]
    }
   ],
   "source": [
    "epochs = 50\n",
    "\n",
    "#batch_size = 32\n",
    "\n",
    "n_hidden = 64\n",
    "\n",
    "model = Sequential()\n",
    "model.add(LSTM(n_hidden, return_sequences=True, input_shape=(timesteps, input_dim))) #an LSTM layer\n",
    "model.add(Dropout(0.1)) \n",
    "#model.add(Dense(10, activation='sigmoid'))\n",
    "model.add(Dense(1))\n",
    "\n",
    "model.compile(optimizer=tf.keras.optimizers.Adam(lr = 0.05),\n",
    "                  loss=tf.keras.losses.SparseCategoricalCrossentropy(),\n",
    "                  metrics=[tf.keras.metrics.SparseCategoricalAccuracy()])\n",
    "\n",
    "\n",
    "history = model.fit(X_train,y_train, epochs=epochs, validation_data=(X_test, y_test), verbose = 1)"
   ]
  },
  {
   "cell_type": "code",
   "execution_count": null,
   "id": "a766e81d",
   "metadata": {},
   "outputs": [],
   "source": []
  }
 ],
 "metadata": {
  "kernelspec": {
   "display_name": "Python 3 (ipykernel)",
   "language": "python",
   "name": "python3"
  },
  "language_info": {
   "codemirror_mode": {
    "name": "ipython",
    "version": 3
   },
   "file_extension": ".py",
   "mimetype": "text/x-python",
   "name": "python",
   "nbconvert_exporter": "python",
   "pygments_lexer": "ipython3",
   "version": "3.9.12"
  }
 },
 "nbformat": 4,
 "nbformat_minor": 5
}
